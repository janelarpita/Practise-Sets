{
  "cells": [
    {
      "cell_type": "code",
      "execution_count": null,
      "metadata": {
        "id": "cJutSOPfrABw"
      },
      "outputs": [],
      "source": [
        "import numpy as np\n",
        "rng = np.random.default_rng()"
      ]
    },
    {
      "cell_type": "code",
      "source": [
        "L = rng.random(100)\n",
        "sum(L)"
      ],
      "metadata": {
        "colab": {
          "base_uri": "https://localhost:8080/"
        },
        "id": "_vjvSARBZ5xI",
        "outputId": "f1a21c55-1629-4f63-8222-9e5a10cadacc"
      },
      "execution_count": null,
      "outputs": [
        {
          "output_type": "execute_result",
          "data": {
            "text/plain": [
              "52.87777632895158"
            ]
          },
          "metadata": {},
          "execution_count": 2
        }
      ]
    },
    {
      "cell_type": "code",
      "source": [
        "np.sum(L)"
      ],
      "metadata": {
        "colab": {
          "base_uri": "https://localhost:8080/"
        },
        "id": "NPy7HLaLZ92i",
        "outputId": "7bdf6109-5f87-446e-a220-2cf71b48773e"
      },
      "execution_count": null,
      "outputs": [
        {
          "output_type": "execute_result",
          "data": {
            "text/plain": [
              "52.8777763289516"
            ]
          },
          "metadata": {},
          "execution_count": 3
        }
      ]
    },
    {
      "cell_type": "code",
      "source": [
        "big_array = rng.random(1000)\n",
        "print(big_array)\n",
        "sum(big_array)\n",
        "np.sum(big_array)"
      ],
      "metadata": {
        "colab": {
          "base_uri": "https://localhost:8080/"
        },
        "id": "hO4AYvzpaB2n",
        "outputId": "448cbe2c-ba3d-43c3-bdfe-a5e539a1776b"
      },
      "execution_count": null,
      "outputs": [
        {
          "output_type": "stream",
          "name": "stdout",
          "text": [
            "[9.41118395e-01 8.34667918e-01 1.38869808e-01 2.31733710e-01\n",
            " 2.52724552e-01 3.52297027e-01 3.89535915e-01 8.44434500e-01\n",
            " 5.97676335e-01 9.60019251e-01 6.07579205e-01 2.53792313e-01\n",
            " 9.86985363e-01 4.14277753e-01 2.67943114e-01 9.43023485e-01\n",
            " 3.00915352e-01 4.98426005e-01 7.69403565e-01 5.11885602e-01\n",
            " 7.12041152e-01 7.03234872e-01 6.00634341e-01 9.29820663e-01\n",
            " 4.02759580e-01 1.49662068e-01 3.92762543e-02 2.76318268e-01\n",
            " 3.19357564e-02 7.04895392e-01 1.44805496e-01 3.96857011e-01\n",
            " 9.08346777e-01 5.96531315e-01 3.92377877e-01 8.64770638e-03\n",
            " 5.76771032e-01 7.03591778e-02 4.62634170e-02 4.14398661e-01\n",
            " 6.08505263e-01 6.83819577e-01 6.17589848e-01 7.93900247e-01\n",
            " 2.52425403e-01 7.76085049e-01 4.49451941e-01 2.15287262e-01\n",
            " 8.06462083e-01 4.67025516e-01 4.60824909e-01 1.73360957e-01\n",
            " 7.30679279e-02 6.33538892e-01 1.71088660e-01 1.74784619e-01\n",
            " 4.72484776e-01 6.07061033e-01 6.63696992e-01 2.41292810e-01\n",
            " 4.78255972e-01 1.67305532e-02 7.38590384e-02 9.89925348e-02\n",
            " 8.01981066e-01 8.97270996e-01 6.94302218e-02 4.84218272e-01\n",
            " 3.99381397e-01 8.26566514e-01 7.70285055e-02 6.88260902e-02\n",
            " 5.83459841e-01 7.77979277e-03 9.73464840e-01 9.76172475e-01\n",
            " 3.03724705e-01 3.64451221e-01 9.23553561e-01 2.34700068e-01\n",
            " 2.41180816e-01 5.62598935e-01 6.78594522e-01 1.88324764e-01\n",
            " 5.80868946e-02 3.97954585e-01 8.75594102e-03 9.72609085e-01\n",
            " 4.01131625e-01 9.97249179e-01 9.44599045e-02 9.30955993e-01\n",
            " 4.39944265e-01 4.51072580e-01 6.12557675e-01 2.31714162e-01\n",
            " 9.31612966e-01 7.09535122e-01 5.78020088e-01 2.76984143e-02\n",
            " 4.25050936e-02 6.10613538e-01 8.77456512e-01 2.88773812e-01\n",
            " 4.09971820e-01 4.20318223e-01 8.39534608e-01 9.47757938e-02\n",
            " 6.13966185e-01 4.42777938e-01 1.05950201e-01 7.94828112e-01\n",
            " 7.75840726e-01 4.84800011e-01 3.87019863e-01 6.09299556e-01\n",
            " 7.72205360e-01 5.51388484e-01 4.61963858e-01 7.55148035e-01\n",
            " 6.88144628e-01 3.57685807e-01 8.94081184e-01 7.49787086e-01\n",
            " 7.93407587e-01 7.04587398e-01 2.92854022e-01 3.34060148e-01\n",
            " 3.82182350e-02 1.26821458e-01 6.21683690e-01 8.03564854e-01\n",
            " 1.09842273e-01 9.48644725e-01 1.99890354e-01 6.83401238e-01\n",
            " 9.17146335e-01 2.61815484e-01 4.74353395e-01 3.26953550e-01\n",
            " 9.45250068e-01 4.45006731e-02 8.91862399e-01 5.26319133e-01\n",
            " 8.86380316e-01 8.25391724e-01 9.83907554e-01 4.40340218e-01\n",
            " 9.06911064e-01 3.17460799e-01 6.30676175e-02 1.28633301e-01\n",
            " 6.91254898e-01 6.09473365e-01 2.04139213e-01 7.71531917e-01\n",
            " 4.95747079e-01 4.05671942e-01 7.88185336e-01 3.85961693e-01\n",
            " 1.84558239e-01 9.49931617e-01 2.91699684e-01 2.39107003e-02\n",
            " 7.83025884e-01 4.11614389e-01 3.96848583e-01 2.26635820e-01\n",
            " 9.57899951e-02 6.28873623e-01 9.14536857e-01 1.36511611e-01\n",
            " 3.37140270e-01 5.11226177e-01 9.02793597e-01 3.08261765e-01\n",
            " 4.12998976e-01 5.24049454e-02 3.27798335e-01 3.72961776e-01\n",
            " 3.49114533e-01 1.86384682e-01 4.87011262e-01 2.77614458e-01\n",
            " 2.78196167e-01 2.73378953e-01 9.19844866e-01 2.29257323e-01\n",
            " 7.15262932e-01 5.37439092e-02 9.06561653e-01 5.54045185e-01\n",
            " 2.16869499e-01 8.97804067e-01 5.18582812e-01 1.83757570e-01\n",
            " 9.61822421e-02 8.00559478e-01 4.45516009e-01 4.60922389e-01\n",
            " 8.14657505e-01 3.42937023e-01 7.49876406e-01 5.67601243e-01\n",
            " 4.09807042e-01 4.73541225e-01 3.90411694e-02 1.22742891e-02\n",
            " 6.78876279e-02 7.14060947e-02 6.92188286e-01 3.25187271e-01\n",
            " 5.01091916e-01 2.32828011e-01 8.59803033e-01 4.42366819e-01\n",
            " 5.44859882e-01 6.51321737e-01 9.60318002e-01 6.71744247e-01\n",
            " 2.46704294e-01 6.93385347e-01 5.51563266e-01 6.41190668e-01\n",
            " 8.93528364e-01 9.70316492e-01 6.50278122e-01 8.53294971e-01\n",
            " 7.51971687e-01 2.84325278e-01 6.04410116e-01 3.18732562e-01\n",
            " 7.68088329e-01 2.53942073e-01 1.70391510e-01 8.17414454e-02\n",
            " 1.01138728e-01 6.80893139e-01 2.56098078e-02 2.12780339e-01\n",
            " 7.75486612e-01 4.92098076e-01 8.09755849e-01 4.01747064e-01\n",
            " 1.61746020e-01 9.28037287e-01 6.26388708e-01 9.58903804e-01\n",
            " 3.78345963e-01 6.48445133e-01 8.23453633e-01 3.60928731e-01\n",
            " 3.27072594e-01 1.16038101e-02 8.93903962e-01 9.98963658e-01\n",
            " 4.24583736e-01 2.42404510e-02 4.04153450e-01 9.09405760e-01\n",
            " 4.54342813e-01 5.70641671e-01 4.89267511e-01 2.71571480e-01\n",
            " 7.33205865e-01 9.44333879e-01 6.27787269e-02 2.05764052e-01\n",
            " 5.94111606e-01 2.19073337e-01 4.60703397e-01 8.62171163e-01\n",
            " 4.19382729e-02 1.99220835e-01 2.39674020e-01 5.99350803e-01\n",
            " 3.83924198e-01 9.81275775e-01 8.71941706e-01 7.30024533e-01\n",
            " 7.73679136e-01 1.96352436e-01 1.99545647e-01 7.00282423e-01\n",
            " 7.67986582e-01 7.20358827e-01 3.84896849e-01 3.13926763e-01\n",
            " 1.08477961e-01 9.97512397e-01 4.41555267e-01 1.22652934e-01\n",
            " 7.39643943e-01 9.34714445e-01 7.65426840e-01 2.83434264e-02\n",
            " 2.24662109e-01 7.21111285e-01 3.66688956e-01 4.19064867e-01\n",
            " 3.40306460e-02 1.02968039e-01 4.23854923e-03 8.76875673e-02\n",
            " 3.43689936e-01 5.17357575e-01 8.70709275e-01 1.70477108e-03\n",
            " 3.21082271e-01 3.65611555e-01 4.47873076e-01 2.70811372e-01\n",
            " 8.39016437e-01 2.02570871e-01 3.53777398e-02 8.51549134e-01\n",
            " 4.40893103e-01 1.44973369e-01 1.49697952e-01 8.36107385e-01\n",
            " 6.04139470e-01 9.06775356e-02 4.07888956e-01 5.43528710e-01\n",
            " 4.36119825e-01 4.46208893e-01 1.77821209e-01 5.39986714e-01\n",
            " 4.21015151e-02 1.84093585e-01 7.66433438e-01 7.23161456e-01\n",
            " 6.26466925e-01 4.27892293e-01 1.17231160e-01 8.94099813e-01\n",
            " 1.31320923e-01 2.51837857e-01 9.11414872e-03 4.67196836e-02\n",
            " 5.51348320e-01 6.18172290e-01 8.89085660e-01 4.21717334e-01\n",
            " 5.99204761e-01 3.32268625e-01 5.32098360e-01 9.63590087e-01\n",
            " 1.09263350e-01 3.22446797e-01 3.89031558e-01 4.77903202e-02\n",
            " 2.78788372e-01 6.96559123e-01 3.08723355e-01 4.23933912e-01\n",
            " 8.07930211e-01 6.14550608e-01 3.03679090e-01 8.90124157e-01\n",
            " 8.25590716e-01 1.09937466e-01 4.10795676e-01 8.69711289e-01\n",
            " 5.95206007e-01 8.42346260e-01 7.38890853e-02 3.57781574e-01\n",
            " 7.56312929e-03 6.89851543e-01 4.44679978e-01 4.84372081e-01\n",
            " 5.02468010e-01 1.02176217e-01 3.47379068e-02 9.20787578e-01\n",
            " 4.76280964e-01 3.12972660e-01 4.73387202e-02 7.18806649e-01\n",
            " 7.68172003e-01 7.24796303e-01 9.28352945e-02 6.48097447e-01\n",
            " 7.99844397e-01 1.90265076e-01 7.62303509e-01 3.46811502e-01\n",
            " 3.99503359e-01 5.92876232e-01 8.44426941e-01 2.12389921e-01\n",
            " 8.66517384e-01 2.62126203e-01 5.51416888e-01 3.80768414e-01\n",
            " 1.06530325e-01 1.27226204e-01 7.38388817e-02 4.58637379e-01\n",
            " 9.10752983e-01 8.08544534e-01 1.92577064e-01 9.04713784e-01\n",
            " 1.82267364e-01 6.58736915e-01 2.53600770e-01 3.19549512e-01\n",
            " 4.18835551e-01 6.74595147e-01 6.43887720e-01 3.74192431e-01\n",
            " 9.58237860e-01 4.80257542e-01 9.17905418e-01 1.38340361e-01\n",
            " 9.55111776e-01 1.73553259e-01 2.11970887e-01 4.49874281e-01\n",
            " 3.43500996e-01 1.09879046e-01 5.85029834e-01 9.95241731e-01\n",
            " 4.55955313e-01 5.96621371e-01 7.67635626e-01 4.78131825e-01\n",
            " 5.22249275e-01 2.29564391e-01 1.00949482e-01 1.74878382e-01\n",
            " 3.39153939e-01 8.39761932e-01 6.66890101e-01 3.03920750e-01\n",
            " 3.33979382e-01 6.04091295e-01 2.76133098e-01 3.49297823e-01\n",
            " 7.88062161e-01 4.47912852e-01 6.34881201e-01 7.88083065e-01\n",
            " 6.28032670e-01 4.35149784e-02 4.81792301e-01 6.57363439e-01\n",
            " 8.75190561e-01 4.98584415e-01 6.91506332e-01 5.49077762e-01\n",
            " 1.87737359e-01 5.08892647e-01 3.59685055e-01 6.32860150e-01\n",
            " 1.64838704e-01 9.90166330e-02 5.64312725e-01 1.26665411e-01\n",
            " 8.98478262e-01 3.09767942e-01 5.56675554e-01 8.03203484e-01\n",
            " 5.95445020e-01 5.56993206e-01 8.69433471e-01 9.76668676e-01\n",
            " 8.55126553e-01 2.12631923e-01 8.94320468e-01 4.55825289e-01\n",
            " 6.87681246e-01 2.27460210e-01 8.43651544e-01 5.04141051e-02\n",
            " 8.32839988e-01 7.54137719e-01 5.19512994e-01 6.41953374e-01\n",
            " 8.83680268e-01 8.73906129e-01 9.22308223e-01 8.10611228e-01\n",
            " 3.81127998e-01 5.12454992e-01 8.01326875e-01 7.10670577e-01\n",
            " 9.50936441e-01 9.44714569e-01 9.85208185e-02 1.13219879e-01\n",
            " 1.69601779e-02 2.72628727e-01 8.36467228e-01 9.45032872e-01\n",
            " 6.27050984e-01 2.95962553e-02 8.96004675e-01 2.14496125e-01\n",
            " 6.73825761e-01 8.66181775e-01 1.16383186e-01 3.12973061e-01\n",
            " 4.33943912e-01 8.62319746e-02 3.99224074e-01 5.31893673e-01\n",
            " 3.38110246e-01 3.24135400e-01 7.88141994e-01 5.09043141e-01\n",
            " 1.23841360e-01 1.27350902e-01 9.22163387e-01 6.84827105e-01\n",
            " 5.28918032e-01 7.55628582e-01 8.34152376e-01 7.58196982e-01\n",
            " 6.28690729e-01 1.32273006e-01 9.82016110e-01 1.30677902e-01\n",
            " 4.26329165e-01 8.23419837e-01 5.69105172e-01 7.96202544e-01\n",
            " 8.67580802e-01 4.95920350e-01 1.38348255e-01 5.28046180e-01\n",
            " 4.36920023e-01 1.44054498e-01 2.47472756e-01 7.26997405e-01\n",
            " 2.49811325e-01 8.72126141e-01 1.96409396e-02 3.62448178e-01\n",
            " 9.89200080e-01 7.36650094e-01 3.84682121e-01 1.19128717e-01\n",
            " 4.47881335e-02 5.44193468e-01 8.50819087e-01 6.07280065e-01\n",
            " 2.22499876e-01 1.27099383e-01 2.01353750e-02 3.87601410e-01\n",
            " 9.32546810e-01 2.23236146e-01 1.70809815e-01 4.76449890e-01\n",
            " 1.21547567e-01 7.62312363e-01 1.77436196e-01 1.83687441e-01\n",
            " 4.63658654e-01 1.26529362e-02 9.72925346e-01 3.59740688e-01\n",
            " 5.37931749e-01 4.95415041e-01 9.51513698e-01 3.93258509e-01\n",
            " 2.50741385e-01 3.99952254e-01 5.14622829e-01 6.79077321e-01\n",
            " 9.31711861e-01 9.46431987e-01 4.19943983e-01 2.77174182e-01\n",
            " 1.91168019e-01 4.51826093e-01 7.71028936e-01 3.10297603e-01\n",
            " 1.07739299e-02 8.14686710e-01 9.60695707e-01 8.88942290e-02\n",
            " 4.45724030e-01 2.84303233e-01 5.46787596e-01 5.41419969e-01\n",
            " 6.94618671e-01 1.89718253e-01 4.54213419e-01 4.16368032e-01\n",
            " 9.28087531e-01 2.77879541e-01 9.89658775e-01 4.09925984e-01\n",
            " 9.66078739e-02 8.73879370e-01 4.42989143e-01 7.40892707e-01\n",
            " 4.78793671e-01 6.44050516e-01 4.75071158e-01 4.51893287e-01\n",
            " 1.01406910e-01 7.41169962e-01 3.74963131e-01 7.81367116e-01\n",
            " 2.19859175e-01 2.21492329e-01 9.12837294e-01 6.75514534e-01\n",
            " 8.52849571e-01 9.96733394e-01 2.42965129e-01 3.17451425e-01\n",
            " 1.12401551e-01 2.78891495e-02 3.37737181e-01 2.08072991e-01\n",
            " 2.08689084e-01 2.48226685e-01 9.65123906e-01 5.38942877e-02\n",
            " 6.78044754e-01 5.60463755e-01 4.77753080e-01 8.32999366e-01\n",
            " 3.74121024e-02 9.15773188e-01 8.41803927e-01 5.17490616e-01\n",
            " 1.67542057e-01 1.16014646e-01 1.86876681e-01 7.45394325e-01\n",
            " 6.69950735e-02 5.70331887e-01 6.86384272e-02 6.95634403e-01\n",
            " 4.26396935e-01 6.74411967e-01 2.80579328e-01 4.56574095e-03\n",
            " 7.15338771e-01 8.68006625e-01 6.29322608e-01 6.97720119e-01\n",
            " 5.55017587e-01 5.43681577e-01 6.18275373e-01 1.42669991e-01\n",
            " 1.24562950e-01 2.75994466e-01 3.39670824e-01 5.96179674e-01\n",
            " 2.60359244e-01 1.07438724e-01 7.47286173e-01 7.80785715e-02\n",
            " 1.58339570e-01 9.28696506e-01 1.63956385e-01 8.40377104e-01\n",
            " 6.82808793e-01 5.73896705e-01 8.02028580e-01 3.80437130e-01\n",
            " 4.77910176e-01 6.03740739e-01 3.30412666e-02 4.32628334e-01\n",
            " 7.83818328e-01 9.92033369e-01 3.78020245e-01 3.17497012e-01\n",
            " 8.96150018e-01 5.64131017e-01 8.49831281e-01 2.12725099e-01\n",
            " 9.68877126e-01 8.38460951e-01 7.23315902e-01 9.50586695e-01\n",
            " 3.71179029e-01 8.57151654e-01 1.98997903e-01 2.85034085e-01\n",
            " 8.92778574e-01 7.12125031e-01 4.50388545e-02 1.92911848e-01\n",
            " 3.98007247e-01 9.56609130e-01 7.70598420e-01 2.92924881e-01\n",
            " 3.73386179e-01 5.42757970e-01 8.05020394e-02 4.77930090e-01\n",
            " 2.94210904e-01 6.06839319e-01 1.36589782e-01 3.41116412e-01\n",
            " 1.03118929e-02 7.32344963e-01 9.98592171e-01 1.13472344e-01\n",
            " 1.68264634e-01 2.38020725e-01 4.71122377e-01 7.64527514e-01\n",
            " 1.99396080e-01 4.84929940e-01 7.78581478e-01 7.90724116e-01\n",
            " 8.24950799e-01 9.93913407e-04 9.48129245e-01 7.85036133e-01\n",
            " 4.17523779e-01 5.37749644e-01 6.85486033e-01 9.30720242e-01\n",
            " 7.95787953e-01 4.93116341e-01 8.06944294e-02 7.85051321e-01\n",
            " 5.12302454e-01 3.30845248e-01 4.73239578e-01 3.29360022e-01\n",
            " 4.16945588e-01 2.80578726e-01 2.54656782e-01 7.95205209e-01\n",
            " 9.35805147e-01 7.13281115e-01 4.21622513e-01 9.90334425e-02\n",
            " 6.65386907e-01 1.55375607e-02 5.94502139e-01 8.24889817e-01\n",
            " 4.23346050e-01 4.94825536e-01 9.36484016e-01 7.49032050e-01\n",
            " 6.75674494e-01 3.90686787e-01 4.42002196e-01 9.28656900e-02\n",
            " 1.29073105e-01 4.04414601e-01 2.26612372e-01 6.38075485e-03\n",
            " 8.93653338e-01 4.13359692e-01 1.91804750e-01 2.85446349e-01\n",
            " 4.03697528e-01 8.30851462e-01 9.28205750e-01 6.61656989e-01\n",
            " 3.99390530e-01 1.94224881e-01 1.10127907e-01 1.45985320e-02\n",
            " 7.84140857e-02 7.68971556e-01 7.82739511e-01 7.59803258e-01\n",
            " 6.58258878e-01 2.99519408e-01 1.89888852e-01 5.12899269e-01\n",
            " 7.48008159e-01 5.67405655e-02 2.71740902e-01 5.09260208e-01\n",
            " 2.30077015e-01 2.39438420e-01 3.34018525e-01 7.60226166e-01\n",
            " 1.85114283e-01 9.63314820e-01 5.96176802e-01 6.99369645e-01\n",
            " 9.27305974e-01 6.54047559e-01 1.06607498e-02 1.74645698e-01\n",
            " 1.48567912e-01 6.41054776e-02 3.20517419e-01 8.20274058e-01\n",
            " 2.16111087e-01 6.70579264e-01 1.31246067e-02 2.52581471e-01\n",
            " 7.90458145e-01 3.01125112e-01 3.64108978e-01 6.30406828e-01\n",
            " 2.06544620e-01 2.68222906e-01 4.55304493e-01 5.92640249e-01\n",
            " 7.49683834e-02 4.72420450e-01 7.33053541e-01 6.32825170e-01\n",
            " 6.15290749e-01 2.62417474e-01 3.08524711e-01 6.44184876e-01\n",
            " 5.81049631e-01 5.98749896e-01 1.58658145e-01 6.90323386e-01\n",
            " 2.68127306e-02 5.51045276e-01 2.95107313e-01 2.96241448e-01\n",
            " 9.51115830e-01 3.21739219e-01 1.96210536e-01 8.52145727e-01\n",
            " 8.38987834e-01 4.97059792e-01 6.88065155e-01 8.46087008e-01\n",
            " 8.47696238e-01 9.79842072e-01 5.74907457e-01 1.98099007e-01\n",
            " 4.68472834e-01 4.93280141e-01 2.28595922e-01 1.13527300e-01\n",
            " 1.46990185e-01 8.77033664e-01 5.64198158e-01 4.74999776e-01\n",
            " 8.89442095e-01 5.87207623e-01 3.22318635e-01 7.35390327e-01\n",
            " 3.81510335e-01 3.21907016e-01 8.85581005e-02 4.04690463e-01\n",
            " 1.06090978e-01 8.51436647e-01 2.00732226e-01 2.69868045e-02\n",
            " 2.26952792e-02 9.64019304e-01 1.09087655e-01 7.99279558e-01\n",
            " 2.68895483e-01 2.92539937e-01 5.97703912e-01 3.99819269e-01\n",
            " 4.31636057e-01 7.87873931e-01 2.79638058e-01 2.42638057e-01\n",
            " 7.86034809e-01 2.84493327e-01 2.28811887e-01 5.78506537e-01\n",
            " 1.92036256e-01 2.64087967e-01 1.82346086e-01 9.82805414e-01\n",
            " 8.19101116e-01 2.21142665e-01 8.09907309e-01 7.51997237e-01\n",
            " 2.40921826e-01 1.73074214e-01 4.41270233e-01 4.27554776e-01\n",
            " 2.06443900e-01 7.89973056e-01 5.57996938e-01 1.48371699e-01\n",
            " 4.69990886e-02 8.68626425e-01 5.88764461e-01 8.14639387e-01\n",
            " 7.83227963e-01 5.95164436e-01 9.39325032e-01 2.85606821e-01\n",
            " 8.78942056e-01 7.20178727e-01 4.76137874e-02 6.92647647e-01\n",
            " 1.00498503e-01 1.73238854e-01 3.93548597e-01 5.72145076e-01\n",
            " 3.84487813e-01 3.05847535e-01 1.86995157e-02 3.65917378e-01\n",
            " 9.45840269e-01 4.15219880e-01 1.85229032e-01 6.17193747e-01\n",
            " 5.31648178e-01 5.84396347e-01 8.79522248e-01 8.36997551e-01\n",
            " 7.47184700e-01 2.41534818e-01 4.08415975e-01 2.75115549e-01\n",
            " 5.53128845e-01 5.36511726e-02 2.72080957e-01 7.48573568e-01\n",
            " 2.95848172e-01 9.89931500e-01 8.95102123e-01 3.56953421e-01\n",
            " 1.95101234e-01 3.59774912e-01 3.64666600e-01 2.00470705e-01\n",
            " 1.20864301e-01 9.16483009e-02 7.21464478e-01 4.28173702e-01\n",
            " 2.21550939e-01 5.90828715e-01 5.78952584e-02 9.31094588e-01\n",
            " 9.94415918e-01 4.22501001e-01 9.23774496e-01 8.96207468e-01\n",
            " 7.85928035e-01 8.38250399e-01 6.35384905e-01 6.67009300e-01\n",
            " 6.48071398e-01 6.56817619e-01 7.02092214e-01 8.20236114e-01\n",
            " 2.35996381e-02 6.17901732e-01 5.54811475e-02 7.21340889e-01\n",
            " 2.35605947e-01 6.13595899e-01 3.61451854e-01 6.51822458e-01\n",
            " 6.57008969e-01 8.27387309e-01 9.96971170e-02 2.01332005e-01\n",
            " 1.12375558e-01 3.50981376e-01 4.05760957e-01 8.76662943e-01\n",
            " 4.54715567e-01 2.55765823e-01 4.17267572e-01 6.46823098e-01\n",
            " 5.87683976e-01 3.11603939e-02 4.45209756e-02 6.99868527e-01\n",
            " 1.79694976e-01 1.65176862e-01 2.15197817e-02 3.90483561e-01\n",
            " 2.98712259e-01 3.24632860e-01 4.60696141e-01 6.08275229e-01\n",
            " 4.08347484e-01 3.03872611e-01 8.72721969e-01 6.82277899e-01\n",
            " 5.26314710e-01 9.95669913e-01 3.85431656e-01 8.91821864e-01\n",
            " 8.21594666e-02 6.66447842e-01 6.90489528e-01 1.68181804e-01\n",
            " 9.46230522e-02 9.91733290e-02 1.46818728e-01 5.39744675e-01]\n"
          ]
        },
        {
          "output_type": "execute_result",
          "data": {
            "text/plain": [
              "480.45658013637535"
            ]
          },
          "metadata": {},
          "execution_count": 4
        }
      ]
    },
    {
      "cell_type": "code",
      "source": [
        "min(big_array), max(big_array)"
      ],
      "metadata": {
        "colab": {
          "base_uri": "https://localhost:8080/"
        },
        "id": "b0wqkNNTaHZc",
        "outputId": "bb5c8682-48a0-4450-ba80-fc17ffde3465"
      },
      "execution_count": null,
      "outputs": [
        {
          "output_type": "execute_result",
          "data": {
            "text/plain": [
              "(0.000993913406931779, 0.9989636577190941)"
            ]
          },
          "metadata": {},
          "execution_count": 5
        }
      ]
    },
    {
      "cell_type": "code",
      "source": [
        "np.min(big_array), np.max(big_array)"
      ],
      "metadata": {
        "colab": {
          "base_uri": "https://localhost:8080/"
        },
        "id": "sfQTaH7maMF8",
        "outputId": "13436667-d93b-46f3-87d2-75de9377ab55"
      },
      "execution_count": null,
      "outputs": [
        {
          "output_type": "execute_result",
          "data": {
            "text/plain": [
              "(0.000993913406931779, 0.9989636577190941)"
            ]
          },
          "metadata": {},
          "execution_count": 6
        }
      ]
    },
    {
      "cell_type": "code",
      "source": [
        "print(big_array.min(), big_array.max(), big_array.sum())"
      ],
      "metadata": {
        "colab": {
          "base_uri": "https://localhost:8080/"
        },
        "id": "fQXzZCbFaRnT",
        "outputId": "c626ece5-d211-415d-a8da-549912532470"
      },
      "execution_count": null,
      "outputs": [
        {
          "output_type": "stream",
          "name": "stdout",
          "text": [
            "0.000993913406931779 0.9989636577190941 480.45658013637535\n"
          ]
        }
      ]
    },
    {
      "cell_type": "code",
      "source": [
        "M = rng.integers(0, 10, (2, 4))\n",
        "print(M)"
      ],
      "metadata": {
        "colab": {
          "base_uri": "https://localhost:8080/"
        },
        "id": "j-bHJ2ZTaUBf",
        "outputId": "c7d1d00d-970e-4d04-8bb3-d639bb63bda4"
      },
      "execution_count": null,
      "outputs": [
        {
          "output_type": "stream",
          "name": "stdout",
          "text": [
            "[[6 7 7 9]\n",
            " [2 2 5 3]]\n"
          ]
        }
      ]
    },
    {
      "cell_type": "code",
      "source": [
        "M.sum()"
      ],
      "metadata": {
        "colab": {
          "base_uri": "https://localhost:8080/"
        },
        "id": "ztXBS3PgaXrT",
        "outputId": "0b3c099a-fbe3-4fae-effa-9de014e6de21"
      },
      "execution_count": null,
      "outputs": [
        {
          "output_type": "execute_result",
          "data": {
            "text/plain": [
              "41"
            ]
          },
          "metadata": {},
          "execution_count": 9
        }
      ]
    },
    {
      "cell_type": "code",
      "source": [
        "M.min(axis=0)"
      ],
      "metadata": {
        "colab": {
          "base_uri": "https://localhost:8080/"
        },
        "id": "EeD8CIHKabho",
        "outputId": "e9c8de25-9e00-4e4e-aa48-e7dedb3715e9"
      },
      "execution_count": null,
      "outputs": [
        {
          "output_type": "execute_result",
          "data": {
            "text/plain": [
              "array([2, 2, 5, 3])"
            ]
          },
          "metadata": {},
          "execution_count": 10
        }
      ]
    },
    {
      "cell_type": "code",
      "source": [
        "M.max(axis=1)"
      ],
      "metadata": {
        "colab": {
          "base_uri": "https://localhost:8080/"
        },
        "id": "txHG6ajpaeQe",
        "outputId": "b3e018e8-53b9-4414-d49f-d52a0549f52f"
      },
      "execution_count": null,
      "outputs": [
        {
          "output_type": "execute_result",
          "data": {
            "text/plain": [
              "array([9, 5])"
            ]
          },
          "metadata": {},
          "execution_count": 11
        }
      ]
    },
    {
      "cell_type": "code",
      "source": [
        "import numpy as np\n",
        "\n",
        "# Create a sample NumPy array with NaN values\n",
        "arr = np.array([1, 2, np.nan, 4, 5, np.nan])"
      ],
      "metadata": {
        "id": "Yi27q8OEai2a"
      },
      "execution_count": null,
      "outputs": []
    },
    {
      "cell_type": "code",
      "source": [
        "# Sum of elements\n",
        "print(np.sum(arr))  # Output: NaN\n",
        "\n",
        "# Sum ignoring NaNs\n",
        "print(np.nansum(arr))  # Output: 12.0"
      ],
      "metadata": {
        "colab": {
          "base_uri": "https://localhost:8080/"
        },
        "id": "1m8P28hvai7u",
        "outputId": "9c18a438-c12a-4b8d-d90f-bdbd42a98460"
      },
      "execution_count": null,
      "outputs": [
        {
          "output_type": "stream",
          "name": "stdout",
          "text": [
            "nan\n",
            "12.0\n"
          ]
        }
      ]
    },
    {
      "cell_type": "code",
      "source": [
        "# Product of elements\n",
        "print(np.prod(arr))  # Output: NaN\n",
        "\n",
        "# Product ignoring NaNs\n",
        "print(np.nanprod(arr))  # Output: 40.0"
      ],
      "metadata": {
        "colab": {
          "base_uri": "https://localhost:8080/"
        },
        "id": "yP2vO0Wnai_F",
        "outputId": "e8aa7996-3462-407e-9a71-09dfeecf117a"
      },
      "execution_count": null,
      "outputs": [
        {
          "output_type": "stream",
          "name": "stdout",
          "text": [
            "nan\n",
            "40.0\n"
          ]
        }
      ]
    },
    {
      "cell_type": "code",
      "source": [
        "# Mean of elements\n",
        "print(np.mean(arr))  # Output: NaN\n",
        "\n",
        "# Mean ignoring NaNs\n",
        "print(np.nanmean(arr))  # Output: 3.0"
      ],
      "metadata": {
        "colab": {
          "base_uri": "https://localhost:8080/"
        },
        "id": "K5QTcbBSatyY",
        "outputId": "5cc9397b-9528-47e7-e80d-7b19d8b6b65d"
      },
      "execution_count": null,
      "outputs": [
        {
          "output_type": "stream",
          "name": "stdout",
          "text": [
            "nan\n",
            "3.0\n"
          ]
        }
      ]
    },
    {
      "cell_type": "code",
      "source": [
        "# Standard deviation\n",
        "print(np.std(arr))  # Output: NaN\n",
        "\n",
        "# Standard deviation ignoring NaNs\n",
        "print(np.nanstd(arr))  # Output: 1.825144705679587"
      ],
      "metadata": {
        "colab": {
          "base_uri": "https://localhost:8080/"
        },
        "id": "__ggoLdBaw03",
        "outputId": "24e1c6b2-3b79-4a3d-f7af-28358fb43f28"
      },
      "execution_count": null,
      "outputs": [
        {
          "output_type": "stream",
          "name": "stdout",
          "text": [
            "nan\n",
            "1.5811388300841898\n"
          ]
        }
      ]
    },
    {
      "cell_type": "code",
      "source": [
        "# Variance\n",
        "print(np.var(arr))  # Output: NaN\n",
        "\n",
        "# Variance ignoring NaNs\n",
        "print(np.nanvar(arr))  # Output: 3.3333333333333335"
      ],
      "metadata": {
        "colab": {
          "base_uri": "https://localhost:8080/"
        },
        "id": "zeAdFQi0a0Hr",
        "outputId": "27aa2412-276d-45dc-d064-4ee8c179b942"
      },
      "execution_count": null,
      "outputs": [
        {
          "output_type": "stream",
          "name": "stdout",
          "text": [
            "nan\n",
            "2.5\n"
          ]
        }
      ]
    },
    {
      "cell_type": "code",
      "source": [
        "# Minimum value\n",
        "print(np.min(arr))  # Output: NaN\n",
        "\n",
        "# Minimum value ignoring NaNs\n",
        "print(np.nanmin(arr))  # Output: 1.0"
      ],
      "metadata": {
        "colab": {
          "base_uri": "https://localhost:8080/"
        },
        "id": "xLKVrgcHa27A",
        "outputId": "376802e6-05d4-472c-ac0a-e729646a5ed4"
      },
      "execution_count": null,
      "outputs": [
        {
          "output_type": "stream",
          "name": "stdout",
          "text": [
            "nan\n",
            "1.0\n"
          ]
        }
      ]
    },
    {
      "cell_type": "code",
      "source": [
        "# Maximum value\n",
        "print(np.max(arr))  # Output: NaN\n",
        "\n",
        "# Maximum value ignoring NaNs\n",
        "print(np.nanmax(arr))  # Output: 5.0"
      ],
      "metadata": {
        "colab": {
          "base_uri": "https://localhost:8080/"
        },
        "id": "o-ZFfikaa5W6",
        "outputId": "25fc084a-1871-4847-aff5-d30d90a983f7"
      },
      "execution_count": null,
      "outputs": [
        {
          "output_type": "stream",
          "name": "stdout",
          "text": [
            "nan\n",
            "5.0\n"
          ]
        }
      ]
    },
    {
      "cell_type": "code",
      "source": [
        "#Index of minimum value\n",
        "print(np.argmin(arr))  # Output: 2 (index of NaN, as NaN is considered smallest)\n",
        "\n",
        "# Index of minimum value ignoring NaNs\n",
        "print(np.nanargmin(arr))  # Output: 0 (index of value 1)"
      ],
      "metadata": {
        "colab": {
          "base_uri": "https://localhost:8080/"
        },
        "id": "iV3JJv3aa8ia",
        "outputId": "596b1a07-c718-486c-e20b-2566906d8455"
      },
      "execution_count": null,
      "outputs": [
        {
          "output_type": "stream",
          "name": "stdout",
          "text": [
            "2\n",
            "0\n"
          ]
        }
      ]
    },
    {
      "cell_type": "code",
      "source": [
        "# Index of maximum value\n",
        "print(np.argmax(arr))  # Output: 4 (index of 5)\n",
        "\n",
        "# Index of maximum value ignoring NaNs\n",
        "print(np.nanargmax(arr))  # Output: 4 (index of 5)"
      ],
      "metadata": {
        "colab": {
          "base_uri": "https://localhost:8080/"
        },
        "id": "13LSRbTYa_4G",
        "outputId": "5debc71c-2a4a-43de-8aef-455313d44aad"
      },
      "execution_count": null,
      "outputs": [
        {
          "output_type": "stream",
          "name": "stdout",
          "text": [
            "2\n",
            "4\n"
          ]
        }
      ]
    },
    {
      "cell_type": "code",
      "source": [
        "# Median of elements\n",
        "print(np.median(arr))  # Output: NaN\n",
        "\n",
        "# Median ignoring NaNs\n",
        "print(np.nanmedian(arr))  # Output: 3.0"
      ],
      "metadata": {
        "colab": {
          "base_uri": "https://localhost:8080/"
        },
        "id": "i-naC-B7bC2h",
        "outputId": "0b03c39d-45ce-4df6-de3f-6f3f5230310d"
      },
      "execution_count": null,
      "outputs": [
        {
          "output_type": "stream",
          "name": "stdout",
          "text": [
            "nan\n",
            "3.0\n"
          ]
        }
      ]
    },
    {
      "cell_type": "code",
      "source": [
        "# Percentile of elements (e.g., 50th percentile or median)\n",
        "print(np.percentile(arr, 50))  # Output: NaN\n",
        "\n",
        "# Percentile ignoring NaNs (e.g., 50th percentile or median)\n",
        "print(np.nanpercentile(arr, 50))  # Output: 3.0"
      ],
      "metadata": {
        "colab": {
          "base_uri": "https://localhost:8080/"
        },
        "id": "0ipr6lLQbFlO",
        "outputId": "d3b6720f-e43f-429c-d958-9541a1c9db33"
      },
      "execution_count": null,
      "outputs": [
        {
          "output_type": "stream",
          "name": "stdout",
          "text": [
            "nan\n",
            "3.0\n"
          ]
        }
      ]
    },
    {
      "cell_type": "code",
      "source": [
        "# Check if any element is True\n",
        "print(np.any(arr))  # Output: True (since there are non-zero values)\n"
      ],
      "metadata": {
        "colab": {
          "base_uri": "https://localhost:8080/"
        },
        "id": "D1hwBiofbIjQ",
        "outputId": "00c30cfe-7c69-4187-8212-bce2781a8be7"
      },
      "execution_count": null,
      "outputs": [
        {
          "output_type": "stream",
          "name": "stdout",
          "text": [
            "True\n"
          ]
        }
      ]
    },
    {
      "cell_type": "code",
      "source": [
        "# Check if all elements are True\n",
        "print(np.all(arr))  # Output: False (since there are NaN values)\n"
      ],
      "metadata": {
        "colab": {
          "base_uri": "https://localhost:8080/"
        },
        "id": "vUqK-1b_bLJj",
        "outputId": "c3b16005-a46e-4e2d-9786-acdaf0a12824"
      },
      "execution_count": null,
      "outputs": [
        {
          "output_type": "stream",
          "name": "stdout",
          "text": [
            "True\n"
          ]
        }
      ]
    },
    {
      "cell_type": "code",
      "source": [
        "import numpy as np\n",
        "\n",
        "# Create a sample NumPy array with NaN values\n",
        "arr = np.array([1, 2, np.nan, 4, 5, np.nan])\n",
        "\n",
        "# Aggregation functions\n",
        "print(\"Sum ignoring NaNs:\", np.nansum(arr))\n",
        "print(\"Product ignoring NaNs:\", np.nanprod(arr))\n",
        "print(\"Mean ignoring NaNs:\", np.nanmean(arr))\n",
        "print(\"Standard deviation ignoring NaNs:\", np.nanstd(arr))\n",
        "print(\"Variance ignoring NaNs:\", np.nanvar(arr))\n",
        "print(\"Min ignoring NaNs:\", np.nanmin(arr))\n",
        "print(\"Max ignoring NaNs:\", np.nanmax(arr))\n",
        "print(\"Index of min ignoring NaNs:\", np.nanargmin(arr))\n",
        "print(\"Index of max ignoring NaNs:\", np.nanargmax(arr))\n",
        "print(\"Median ignoring NaNs:\", np.nanmedian(arr))\n",
        "print(\"50th Percentile ignoring NaNs:\", np.nanpercentile(arr, 50))\n",
        "print(\"Any True:\", np.any(arr))\n",
        "print(\"All True:\", np.all(arr))\n"
      ],
      "metadata": {
        "colab": {
          "base_uri": "https://localhost:8080/"
        },
        "id": "mL0lV1DubOHq",
        "outputId": "9f091f33-cf83-4813-95e1-fe91dd37dbb1"
      },
      "execution_count": null,
      "outputs": [
        {
          "output_type": "stream",
          "name": "stdout",
          "text": [
            "Sum ignoring NaNs: 12.0\n",
            "Product ignoring NaNs: 40.0\n",
            "Mean ignoring NaNs: 3.0\n",
            "Standard deviation ignoring NaNs: 1.5811388300841898\n",
            "Variance ignoring NaNs: 2.5\n",
            "Min ignoring NaNs: 1.0\n",
            "Max ignoring NaNs: 5.0\n",
            "Index of min ignoring NaNs: 0\n",
            "Index of max ignoring NaNs: 4\n",
            "Median ignoring NaNs: 3.0\n",
            "50th Percentile ignoring NaNs: 3.0\n",
            "Any True: True\n",
            "All True: True\n"
          ]
        }
      ]
    },
    {
      "cell_type": "code",
      "source": [
        "\n",
        "import pandas as pd\n",
        "\n",
        "# Series Example\n",
        "data_series = pd.Series([10, 20, 30, 40], index=['A', 'B', 'C', 'D'])\n",
        "print(\"Series:\\n\", data_series)\n",
        "\n",
        "# DataFrame Example\n",
        "data_frame = pd.DataFrame({\n",
        "    'Name': ['Alice', 'Bob', 'Charlie'],\n",
        "    'Age': [25, 30, 35],\n",
        "    'City': ['New York', 'Los Angeles', 'Chicago']\n",
        "})\n",
        "print(\"\\nDataFrame:\\n\", data_frame)"
      ],
      "metadata": {
        "colab": {
          "base_uri": "https://localhost:8080/"
        },
        "id": "6UFeclNZbRkc",
        "outputId": "34ea6ca8-7802-4f56-e313-56fe829e0aec"
      },
      "execution_count": null,
      "outputs": [
        {
          "output_type": "stream",
          "name": "stdout",
          "text": [
            "Series:\n",
            " A    10\n",
            "B    20\n",
            "C    30\n",
            "D    40\n",
            "dtype: int64\n",
            "\n",
            "DataFrame:\n",
            "       Name  Age         City\n",
            "0    Alice   25     New York\n",
            "1      Bob   30  Los Angeles\n",
            "2  Charlie   35      Chicago\n"
          ]
        }
      ]
    },
    {
      "cell_type": "code",
      "source": [
        "\n",
        "# Example DataFrame\n",
        "data = {'Cab_ID': [1, 2, 3], 'Driver': ['Alice', 'Bob', 'Charlie'], 'Fare': [15.5, 20.0, 30.0]}\n",
        "df = pd.DataFrame(data)\n",
        "print(\"Original DataFrame:\\n\", df)\n",
        "\n",
        "# Selecting with loc (label-based)\n",
        "print(\"\\nSelect row by label with .loc:\")\n",
        "print(df.loc[1])  # Selects the row with index label 1\n",
        "\n",
        "# Selecting with iloc (integer-location based)\n",
        "print(\"\\nSelect row by position with .iloc:\")\n",
        "print(df.iloc[2])  # Selects the third row"
      ],
      "metadata": {
        "colab": {
          "base_uri": "https://localhost:8080/"
        },
        "id": "OIGYtenYbUpW",
        "outputId": "02eaea81-fd73-4cdb-df88-27de29d89cca"
      },
      "execution_count": null,
      "outputs": [
        {
          "output_type": "stream",
          "name": "stdout",
          "text": [
            "Original DataFrame:\n",
            "    Cab_ID   Driver  Fare\n",
            "0       1    Alice  15.5\n",
            "1       2      Bob  20.0\n",
            "2       3  Charlie  30.0\n",
            "\n",
            "Select row by label with .loc:\n",
            "Cab_ID       2\n",
            "Driver     Bob\n",
            "Fare      20.0\n",
            "Name: 1, dtype: object\n",
            "\n",
            "Select row by position with .iloc:\n",
            "Cab_ID          3\n",
            "Driver    Charlie\n",
            "Fare         30.0\n",
            "Name: 2, dtype: object\n"
          ]
        }
      ]
    },
    {
      "cell_type": "code",
      "source": [
        "\n",
        "# Adding a new column by broadcasting\n",
        "df['Discounted_Fare'] = df['Fare'] * 0.9\n",
        "print(\"\\nDataFrame after operation:\\n\", df)\n",
        "\n",
        "# Aggregation (mean of Fare column)\n",
        "mean_fare = df['Fare'].mean()\n",
        "print(\"\\nMean Fare:\", mean_fare)"
      ],
      "metadata": {
        "colab": {
          "base_uri": "https://localhost:8080/"
        },
        "id": "6c3L-IHkbWyY",
        "outputId": "3287feab-7dd4-455d-f7cb-3bb8c95b973d"
      },
      "execution_count": null,
      "outputs": [
        {
          "output_type": "stream",
          "name": "stdout",
          "text": [
            "\n",
            "DataFrame after operation:\n",
            "    Cab_ID   Driver  Fare  Discounted_Fare\n",
            "0       1    Alice  15.5            13.95\n",
            "1       2      Bob  20.0            18.00\n",
            "2       3  Charlie  30.0            27.00\n",
            "\n",
            "Mean Fare: 21.833333333333332\n"
          ]
        }
      ]
    },
    {
      "cell_type": "code",
      "source": [
        "\n",
        "# Introducing missing values\n",
        "df.loc[1, 'Fare'] = None\n",
        "print(\"\\nDataFrame with missing data:\\n\", df)\n",
        "\n",
        "# Check missing data\n",
        "print(\"\\nMissing Data Check:\\n\", df.isna())\n",
        "\n",
        "# Fill missing data\n",
        "df['Fare'] = df['Fare'].fillna(df['Fare'].mean())\n",
        "print(\"\\nDataFrame after filling missing data:\\n\", df)"
      ],
      "metadata": {
        "colab": {
          "base_uri": "https://localhost:8080/"
        },
        "id": "tKMaUcPJba89",
        "outputId": "5c411fcf-8823-4cb6-ff5e-5baa19ca66ce"
      },
      "execution_count": null,
      "outputs": [
        {
          "output_type": "stream",
          "name": "stdout",
          "text": [
            "\n",
            "DataFrame with missing data:\n",
            "    Cab_ID   Driver  Fare  Discounted_Fare\n",
            "0       1    Alice  15.5            13.95\n",
            "1       2      Bob   NaN            18.00\n",
            "2       3  Charlie  30.0            27.00\n",
            "\n",
            "Missing Data Check:\n",
            "    Cab_ID  Driver   Fare  Discounted_Fare\n",
            "0   False   False  False            False\n",
            "1   False   False   True            False\n",
            "2   False   False  False            False\n",
            "\n",
            "DataFrame after filling missing data:\n",
            "    Cab_ID   Driver   Fare  Discounted_Fare\n",
            "0       1    Alice  15.50            13.95\n",
            "1       2      Bob  22.75            18.00\n",
            "2       3  Charlie  30.00            27.00\n"
          ]
        }
      ]
    },
    {
      "cell_type": "code",
      "source": [
        "\n",
        "# Creating a MultiIndex DataFrame\n",
        "multi_index_data = pd.DataFrame({\n",
        "    'City': ['New York', 'New York', 'Los Angeles', 'Los Angeles'],\n",
        "    'Date': ['2025-01-01', '2025-01-02', '2025-01-01', '2025-01-02'],\n",
        "    'Fare': [15.0, 20.0, 30.0, 35.0]\n",
        "}).set_index(['City', 'Date'])\n",
        "print(\"\\nHierarchical Indexing DataFrame:\\n\", multi_index_data)\n",
        "\n",
        "# Accessing data using hierarchical index\n",
        "print(\"\\nData for New York:\\n\", multi_index_data.loc['New York'])"
      ],
      "metadata": {
        "colab": {
          "base_uri": "https://localhost:8080/"
        },
        "id": "NBR0O7FobeGh",
        "outputId": "6f266a85-31ce-4338-ecbb-7346b9afb496"
      },
      "execution_count": null,
      "outputs": [
        {
          "output_type": "stream",
          "name": "stdout",
          "text": [
            "\n",
            "Hierarchical Indexing DataFrame:\n",
            "                         Fare\n",
            "City        Date            \n",
            "New York    2025-01-01  15.0\n",
            "            2025-01-02  20.0\n",
            "Los Angeles 2025-01-01  30.0\n",
            "            2025-01-02  35.0\n",
            "\n",
            "Data for New York:\n",
            "             Fare\n",
            "Date            \n",
            "2025-01-01  15.0\n",
            "2025-01-02  20.0\n"
          ]
        }
      ]
    },
    {
      "cell_type": "code",
      "source": [
        "\n",
        "url = \"https://raw.githubusercontent.com/mwaskom/seaborn-data/master/taxis.csv\"\n",
        "df = pd.read_csv(url)\n",
        "print(df.head())"
      ],
      "metadata": {
        "colab": {
          "base_uri": "https://localhost:8080/"
        },
        "id": "oeSMh10BbfnP",
        "outputId": "c6a7627d-ea7c-46a2-8d57-e970c4f32cdf"
      },
      "execution_count": null,
      "outputs": [
        {
          "output_type": "stream",
          "name": "stdout",
          "text": [
            "                pickup              dropoff  passengers  distance  fare   tip  \\\n",
            "0  2019-03-23 20:21:09  2019-03-23 20:27:24           1      1.60   7.0  2.15   \n",
            "1  2019-03-04 16:11:55  2019-03-04 16:19:00           1      0.79   5.0  0.00   \n",
            "2  2019-03-27 17:53:01  2019-03-27 18:00:25           1      1.37   7.5  2.36   \n",
            "3  2019-03-10 01:23:59  2019-03-10 01:49:51           1      7.70  27.0  6.15   \n",
            "4  2019-03-30 13:27:42  2019-03-30 13:37:14           3      2.16   9.0  1.10   \n",
            "\n",
            "   tolls  total   color      payment            pickup_zone  \\\n",
            "0    0.0  12.95  yellow  credit card        Lenox Hill West   \n",
            "1    0.0   9.30  yellow         cash  Upper West Side South   \n",
            "2    0.0  14.16  yellow  credit card          Alphabet City   \n",
            "3    0.0  36.95  yellow  credit card              Hudson Sq   \n",
            "4    0.0  13.40  yellow  credit card           Midtown East   \n",
            "\n",
            "            dropoff_zone pickup_borough dropoff_borough  \n",
            "0    UN/Turtle Bay South      Manhattan       Manhattan  \n",
            "1  Upper West Side South      Manhattan       Manhattan  \n",
            "2           West Village      Manhattan       Manhattan  \n",
            "3         Yorkville West      Manhattan       Manhattan  \n",
            "4         Yorkville West      Manhattan       Manhattan  \n"
          ]
        }
      ]
    },
    {
      "cell_type": "code",
      "source": [
        "\n",
        "import pandas as pd\n",
        "\n",
        "# Load NYC Taxi Dataset\n",
        "url = \"https://raw.githubusercontent.com/mwaskom/seaborn-data/master/taxis.csv\"\n",
        "df = pd.read_csv(url)\n",
        "\n",
        "# Display the first few rows of the dataset\n",
        "print(\"NYC Taxi Dataset:\\n\", df.head())"
      ],
      "metadata": {
        "colab": {
          "base_uri": "https://localhost:8080/"
        },
        "id": "GuFnhei_bnLL",
        "outputId": "95fe98b7-f5bf-41de-ba0f-b871063c4126"
      },
      "execution_count": null,
      "outputs": [
        {
          "output_type": "stream",
          "name": "stdout",
          "text": [
            "NYC Taxi Dataset:\n",
            "                 pickup              dropoff  passengers  distance  fare   tip  \\\n",
            "0  2019-03-23 20:21:09  2019-03-23 20:27:24           1      1.60   7.0  2.15   \n",
            "1  2019-03-04 16:11:55  2019-03-04 16:19:00           1      0.79   5.0  0.00   \n",
            "2  2019-03-27 17:53:01  2019-03-27 18:00:25           1      1.37   7.5  2.36   \n",
            "3  2019-03-10 01:23:59  2019-03-10 01:49:51           1      7.70  27.0  6.15   \n",
            "4  2019-03-30 13:27:42  2019-03-30 13:37:14           3      2.16   9.0  1.10   \n",
            "\n",
            "   tolls  total   color      payment            pickup_zone  \\\n",
            "0    0.0  12.95  yellow  credit card        Lenox Hill West   \n",
            "1    0.0   9.30  yellow         cash  Upper West Side South   \n",
            "2    0.0  14.16  yellow  credit card          Alphabet City   \n",
            "3    0.0  36.95  yellow  credit card              Hudson Sq   \n",
            "4    0.0  13.40  yellow  credit card           Midtown East   \n",
            "\n",
            "            dropoff_zone pickup_borough dropoff_borough  \n",
            "0    UN/Turtle Bay South      Manhattan       Manhattan  \n",
            "1  Upper West Side South      Manhattan       Manhattan  \n",
            "2           West Village      Manhattan       Manhattan  \n",
            "3         Yorkville West      Manhattan       Manhattan  \n",
            "4         Yorkville West      Manhattan       Manhattan  \n"
          ]
        }
      ]
    },
    {
      "cell_type": "code",
      "source": [
        "\n",
        "# Dataset as a DataFrame\n",
        "print(\"\\nDataset Info:\")\n",
        "print(df.info())\n",
        "\n",
        "# Accessing a specific column as a Series\n",
        "fare_amount_series = df['fare']\n",
        "print(\"\\nFare Amount as a Series:\\n\", fare_amount_series.head())"
      ],
      "metadata": {
        "colab": {
          "base_uri": "https://localhost:8080/"
        },
        "id": "Sy59T_xGbrjK",
        "outputId": "383feb9f-75a9-40b8-8e07-74539d1b70f5"
      },
      "execution_count": null,
      "outputs": [
        {
          "output_type": "stream",
          "name": "stdout",
          "text": [
            "\n",
            "Dataset Info:\n",
            "<class 'pandas.core.frame.DataFrame'>\n",
            "RangeIndex: 6433 entries, 0 to 6432\n",
            "Data columns (total 14 columns):\n",
            " #   Column           Non-Null Count  Dtype  \n",
            "---  ------           --------------  -----  \n",
            " 0   pickup           6433 non-null   object \n",
            " 1   dropoff          6433 non-null   object \n",
            " 2   passengers       6433 non-null   int64  \n",
            " 3   distance         6433 non-null   float64\n",
            " 4   fare             6433 non-null   float64\n",
            " 5   tip              6433 non-null   float64\n",
            " 6   tolls            6433 non-null   float64\n",
            " 7   total            6433 non-null   float64\n",
            " 8   color            6433 non-null   object \n",
            " 9   payment          6389 non-null   object \n",
            " 10  pickup_zone      6407 non-null   object \n",
            " 11  dropoff_zone     6388 non-null   object \n",
            " 12  pickup_borough   6407 non-null   object \n",
            " 13  dropoff_borough  6388 non-null   object \n",
            "dtypes: float64(5), int64(1), object(8)\n",
            "memory usage: 703.7+ KB\n",
            "None\n",
            "\n",
            "Fare Amount as a Series:\n",
            " 0     7.0\n",
            "1     5.0\n",
            "2     7.5\n",
            "3    27.0\n",
            "4     9.0\n",
            "Name: fare, dtype: float64\n"
          ]
        }
      ]
    },
    {
      "cell_type": "code",
      "source": [
        "\n",
        "# Select rows where fare is greater than $20\n",
        "high_fare_rides = df[df['fare'] > 20]\n",
        "print(\"\\nRides with fare greater than $20:\\n\", high_fare_rides.head())"
      ],
      "metadata": {
        "colab": {
          "base_uri": "https://localhost:8080/"
        },
        "id": "Nh3-pjrXbuid",
        "outputId": "ede5c65c-deaf-4838-a955-46e30aad2649"
      },
      "execution_count": null,
      "outputs": [
        {
          "output_type": "stream",
          "name": "stdout",
          "text": [
            "\n",
            "Rides with fare greater than $20:\n",
            "                  pickup              dropoff  passengers  distance  fare  \\\n",
            "3   2019-03-10 01:23:59  2019-03-10 01:49:51           1      7.70  27.0   \n",
            "22  2019-03-28 17:20:54  2019-03-28 17:55:57           1      9.82  31.5   \n",
            "37  2019-03-21 18:41:58  2019-03-21 19:15:25           1      3.13  20.5   \n",
            "40  2019-03-07 15:15:46  2019-03-07 15:50:14           1      7.51  27.0   \n",
            "42  2019-03-30 23:59:14  2019-03-30 23:59:17           1      0.00  80.0   \n",
            "\n",
            "      tip  tolls   total   color      payment        pickup_zone  \\\n",
            "3    6.15   0.00   36.95  yellow  credit card          Hudson Sq   \n",
            "22   8.31   5.76   49.87  yellow  credit card  LaGuardia Airport   \n",
            "37   0.00   0.00   24.80  yellow         cash    Lenox Hill East   \n",
            "40   6.06   0.00   36.36  yellow  credit card           Flatiron   \n",
            "42  20.08   0.00  100.38  yellow  credit card                NaN   \n",
            "\n",
            "                     dropoff_zone pickup_borough dropoff_borough  \n",
            "3                  Yorkville West      Manhattan       Manhattan  \n",
            "22  Sutton Place/Turtle Bay North         Queens       Manhattan  \n",
            "37               Garment District      Manhattan       Manhattan  \n",
            "40                Carroll Gardens      Manhattan        Brooklyn  \n",
            "42                            NaN            NaN             NaN  \n"
          ]
        }
      ]
    },
    {
      "cell_type": "code",
      "source": [
        "\n",
        "# Select top 5 rows of 'fare' and 'distance'\n",
        "selected_data = df.loc[:4, ['fare', 'distance']]\n",
        "print(\"\\nSelected 'fare' and 'distance':\\n\", selected_data)"
      ],
      "metadata": {
        "colab": {
          "base_uri": "https://localhost:8080/"
        },
        "id": "WsNRWyrvbwlt",
        "outputId": "1fca7a25-1b09-496a-895c-d1af20ae370a"
      },
      "execution_count": null,
      "outputs": [
        {
          "output_type": "stream",
          "name": "stdout",
          "text": [
            "\n",
            "Selected 'fare' and 'distance':\n",
            "    fare  distance\n",
            "0   7.0      1.60\n",
            "1   5.0      0.79\n",
            "2   7.5      1.37\n",
            "3  27.0      7.70\n",
            "4   9.0      2.16\n"
          ]
        }
      ]
    },
    {
      "cell_type": "code",
      "source": [
        "\n",
        "# Group data by payment type and calculate average fare\n",
        "avg_fare_per_payment = df.groupby('payment')['fare'].mean()\n",
        "print(\"\\nAverage Fare per Payment Type:\\n\", avg_fare_per_payment)\n",
        "\n",
        "# Group by both pickup and dropoff and find total passengers\n",
        "total_passengers = df.groupby(['pickup', 'dropoff'])['passengers'].sum()\n",
        "print(\"\\nTotal Passengers by Pickup and Dropoff:\\n\", total_passengers.head())"
      ],
      "metadata": {
        "colab": {
          "base_uri": "https://localhost:8080/"
        },
        "id": "D-A304xebzDx",
        "outputId": "9c6d86fb-3ba6-41f9-8115-2396f9d1da5f"
      },
      "execution_count": null,
      "outputs": [
        {
          "output_type": "stream",
          "name": "stdout",
          "text": [
            "\n",
            "Average Fare per Payment Type:\n",
            " payment\n",
            "cash           11.592991\n",
            "credit card    13.694750\n",
            "Name: fare, dtype: float64\n",
            "\n",
            "Total Passengers by Pickup and Dropoff:\n",
            " pickup               dropoff            \n",
            "2019-02-28 23:29:03  2019-02-28 23:32:35    1\n",
            "2019-03-01 00:03:29  2019-03-01 00:13:32    3\n",
            "2019-03-01 00:08:32  2019-03-01 00:29:47    3\n",
            "2019-03-01 00:15:53  2019-03-01 00:47:58    1\n",
            "2019-03-01 00:29:22  2019-03-01 00:32:48    4\n",
            "Name: passengers, dtype: int64\n"
          ]
        }
      ]
    },
    {
      "cell_type": "code",
      "source": [
        "\n",
        "avg_fare_per_payment = df.groupby('payment')['fare'].mean()\n",
        "print(\"\\nAverage Fare per Payment Type:\\n\", avg_fare_per_payment)"
      ],
      "metadata": {
        "colab": {
          "base_uri": "https://localhost:8080/"
        },
        "id": "_pXeboERb1Ts",
        "outputId": "270a8a83-bbf9-4e76-f435-7e593f29b536"
      },
      "execution_count": null,
      "outputs": [
        {
          "output_type": "stream",
          "name": "stdout",
          "text": [
            "\n",
            "Average Fare per Payment Type:\n",
            " payment\n",
            "cash           11.592991\n",
            "credit card    13.694750\n",
            "Name: fare, dtype: float64\n"
          ]
        }
      ]
    },
    {
      "cell_type": "code",
      "source": [
        "\n",
        "median_fare_per_payment = df.groupby('payment')['fare'].median()\n",
        "print(\"\\nMedian Fare per Payment Type:\\n\", median_fare_per_payment)"
      ],
      "metadata": {
        "colab": {
          "base_uri": "https://localhost:8080/"
        },
        "id": "OWUFS5Yjb4Th",
        "outputId": "755b663a-aca4-4eae-cd8f-b2dac8042d7e"
      },
      "execution_count": null,
      "outputs": [
        {
          "output_type": "stream",
          "name": "stdout",
          "text": [
            "\n",
            "Median Fare per Payment Type:\n",
            " payment\n",
            "cash           8.5\n",
            "credit card    9.5\n",
            "Name: fare, dtype: float64\n"
          ]
        }
      ]
    },
    {
      "cell_type": "code",
      "source": [
        "\n",
        "std_fare_per_payment = df.groupby('payment')['fare'].std()\n",
        "print(\"\\nStandard Deviation of Fare per Payment Type:\\n\", std_fare_per_payment)"
      ],
      "metadata": {
        "colab": {
          "base_uri": "https://localhost:8080/"
        },
        "id": "yU0-nel3b6rf",
        "outputId": "04e2892a-bc48-43d3-db71-21a3cce36f7f"
      },
      "execution_count": null,
      "outputs": [
        {
          "output_type": "stream",
          "name": "stdout",
          "text": [
            "\n",
            "Standard Deviation of Fare per Payment Type:\n",
            " payment\n",
            "cash           11.244216\n",
            "credit card    11.599355\n",
            "Name: fare, dtype: float64\n"
          ]
        }
      ]
    },
    {
      "cell_type": "code",
      "source": [
        "\n",
        "min_fare_per_payment = df.groupby('payment')['fare'].min()\n",
        "max_fare_per_payment = df.groupby('payment')['fare'].max()\n",
        "\n",
        "print(\"\\nMinimum Fare per Payment Type:\\n\", min_fare_per_payment)\n",
        "print(\"\\nMaximum Fare per Payment Type:\\n\", max_fare_per_payment)"
      ],
      "metadata": {
        "colab": {
          "base_uri": "https://localhost:8080/"
        },
        "id": "B7Tnlnngb9Ex",
        "outputId": "a5323ca5-f44a-436f-9ca7-0be456241c95"
      },
      "execution_count": null,
      "outputs": [
        {
          "output_type": "stream",
          "name": "stdout",
          "text": [
            "\n",
            "Minimum Fare per Payment Type:\n",
            " payment\n",
            "cash           1.0\n",
            "credit card    2.5\n",
            "Name: fare, dtype: float64\n",
            "\n",
            "Maximum Fare per Payment Type:\n",
            " payment\n",
            "cash           150.0\n",
            "credit card    120.0\n",
            "Name: fare, dtype: float64\n"
          ]
        }
      ]
    },
    {
      "cell_type": "code",
      "source": [
        "\n",
        "count_per_payment = df.groupby('payment')['fare'].count()\n",
        "print(\"\\nCount of Entries per Payment Type:\\n\", count_per_payment)"
      ],
      "metadata": {
        "colab": {
          "base_uri": "https://localhost:8080/"
        },
        "id": "1E9CqXbKb_cf",
        "outputId": "b3550922-d667-46db-9c54-0da1f82779f9"
      },
      "execution_count": null,
      "outputs": [
        {
          "output_type": "stream",
          "name": "stdout",
          "text": [
            "\n",
            "Count of Entries per Payment Type:\n",
            " payment\n",
            "cash           1812\n",
            "credit card    4577\n",
            "Name: fare, dtype: int64\n"
          ]
        }
      ]
    },
    {
      "cell_type": "code",
      "source": [
        "\n",
        "total_fare_per_payment = df.groupby('payment')['fare'].sum()\n",
        "print(\"\\nTotal Fare per Payment Type:\\n\", total_fare_per_payment)"
      ],
      "metadata": {
        "colab": {
          "base_uri": "https://localhost:8080/"
        },
        "id": "5fo1FA2CcBzb",
        "outputId": "468c3deb-2a47-4086-eba9-0e12c1f1def1"
      },
      "execution_count": null,
      "outputs": [
        {
          "output_type": "stream",
          "name": "stdout",
          "text": [
            "\n",
            "Total Fare per Payment Type:\n",
            " payment\n",
            "cash           21006.50\n",
            "credit card    62680.87\n",
            "Name: fare, dtype: float64\n"
          ]
        }
      ]
    },
    {
      "cell_type": "code",
      "source": [
        "fare_aggregates = df.groupby('payment')['fare'].agg(['mean', 'median', 'std', 'min', 'max', 'count'])\n",
        "print(\"\\nFare Aggregates per Payment Type:\\n\", fare_aggregates)"
      ],
      "metadata": {
        "colab": {
          "base_uri": "https://localhost:8080/"
        },
        "id": "flAQv_Z_cDzl",
        "outputId": "46d0e54a-8546-4bfe-bac3-ca48c489a596"
      },
      "execution_count": null,
      "outputs": [
        {
          "output_type": "stream",
          "name": "stdout",
          "text": [
            "\n",
            "Fare Aggregates per Payment Type:\n",
            "                   mean  median        std  min    max  count\n",
            "payment                                                     \n",
            "cash         11.592991     8.5  11.244216  1.0  150.0   1812\n",
            "credit card  13.694750     9.5  11.599355  2.5  120.0   4577\n"
          ]
        }
      ]
    },
    {
      "cell_type": "code",
      "source": [
        "\n",
        "multi_group_stats = df.groupby(['pickup', 'dropoff'])['fare'].agg(['sum', 'mean', 'count'])\n",
        "print(\"\\nFare Statistics by Pickup and Dropoff:\\n\", multi_group_stats.head())"
      ],
      "metadata": {
        "colab": {
          "base_uri": "https://localhost:8080/"
        },
        "id": "ytGg-tBPcGDT",
        "outputId": "2c8f396d-c276-40cd-97f8-c41fb66f6b1f"
      },
      "execution_count": null,
      "outputs": [
        {
          "output_type": "stream",
          "name": "stdout",
          "text": [
            "\n",
            "Fare Statistics by Pickup and Dropoff:\n",
            "                                           sum  mean  count\n",
            "pickup              dropoff                               \n",
            "2019-02-28 23:29:03 2019-02-28 23:32:35   5.0   5.0      1\n",
            "2019-03-01 00:03:29 2019-03-01 00:13:32  10.0  10.0      1\n",
            "2019-03-01 00:08:32 2019-03-01 00:29:47  22.5  22.5      1\n",
            "2019-03-01 00:15:53 2019-03-01 00:47:58  25.5  25.5      1\n",
            "2019-03-01 00:29:22 2019-03-01 00:32:48   4.5   4.5      1\n"
          ]
        }
      ]
    },
    {
      "cell_type": "code",
      "source": [
        "fare_percentage = df.groupby('payment')['fare'].sum() / df['fare'].sum() * 100\n",
        "print(\"\\nPercentage Contribution of Fare per Payment Type:\\n\", fare_percentage)"
      ],
      "metadata": {
        "colab": {
          "base_uri": "https://localhost:8080/"
        },
        "id": "_GYYgezjcIgs",
        "outputId": "64e32108-fa76-447c-acfc-a19fcdfbe62e"
      },
      "execution_count": null,
      "outputs": [
        {
          "output_type": "stream",
          "name": "stdout",
          "text": [
            "\n",
            "Percentage Contribution of Fare per Payment Type:\n",
            " payment\n",
            "cash           24.943932\n",
            "credit card    74.429694\n",
            "Name: fare, dtype: float64\n"
          ]
        }
      ]
    },
    {
      "cell_type": "code",
      "source": [
        "# Fill missing payment types with 'Unknown' before grouping\n",
        "df['payment'] = df['payment'].fillna('Unknown')\n",
        "filled_avg_fare = df.groupby('payment')['fare'].mean()\n",
        "print(\"\\nAverage Fare per Payment Type (After Filling Missing Data):\\n\", filled_avg_fare)"
      ],
      "metadata": {
        "colab": {
          "base_uri": "https://localhost:8080/"
        },
        "id": "bMIAsYCMcK1Q",
        "outputId": "09973fb2-8dcd-44ae-bb1d-7ff88f344f33"
      },
      "execution_count": null,
      "outputs": [
        {
          "output_type": "stream",
          "name": "stdout",
          "text": [
            "\n",
            "Average Fare per Payment Type (After Filling Missing Data):\n",
            " payment\n",
            "Unknown        11.988636\n",
            "cash           11.592991\n",
            "credit card    13.694750\n",
            "Name: fare, dtype: float64\n"
          ]
        }
      ]
    },
    {
      "cell_type": "code",
      "source": [
        "\n",
        "grouped_df = df.groupby('payment')['fare'].mean().reset_index()\n",
        "print(\"\\nFlat DataFrame of Average Fare per Payment Type:\\n\", grouped_df)"
      ],
      "metadata": {
        "colab": {
          "base_uri": "https://localhost:8080/"
        },
        "id": "Pmn6s8ALcMxD",
        "outputId": "6dc4ddf2-4889-441f-a0ae-f7fc082a2753"
      },
      "execution_count": null,
      "outputs": [
        {
          "output_type": "stream",
          "name": "stdout",
          "text": [
            "\n",
            "Flat DataFrame of Average Fare per Payment Type:\n",
            "        payment       fare\n",
            "0      Unknown  11.988636\n",
            "1         cash  11.592991\n",
            "2  credit card  13.694750\n"
          ]
        }
      ]
    },
    {
      "cell_type": "code",
      "source": [
        "def fare_range(series):\n",
        "    return series.max() - series.min()\n",
        "\n",
        "custom_stats = df.groupby('payment')['fare'].agg(['mean', fare_range])\n",
        "print(\"\\nCustom Fare Statistics per Payment Type:\\n\", custom_stats)"
      ],
      "metadata": {
        "colab": {
          "base_uri": "https://localhost:8080/"
        },
        "id": "KC4R5gAxcQQr",
        "outputId": "1f18df6f-dc16-468e-e397-b944276222c7"
      },
      "execution_count": null,
      "outputs": [
        {
          "output_type": "stream",
          "name": "stdout",
          "text": [
            "\n",
            "Custom Fare Statistics per Payment Type:\n",
            "                   mean  fare_range\n",
            "payment                           \n",
            "Unknown      11.988636        69.5\n",
            "cash         11.592991       149.0\n",
            "credit card  13.694750       117.5\n"
          ]
        }
      ]
    },
    {
      "cell_type": "code",
      "source": [
        "\n",
        "sorted_avg_fare = df.groupby('payment')['fare'].mean().sort_values(ascending=False)\n",
        "print(\"\\nSorted Average Fare per Payment Type:\\n\", sorted_avg_fare)"
      ],
      "metadata": {
        "colab": {
          "base_uri": "https://localhost:8080/"
        },
        "id": "PHZsySKacSll",
        "outputId": "afaf34d7-fe0e-4f33-a16b-68105d325949"
      },
      "execution_count": null,
      "outputs": [
        {
          "output_type": "stream",
          "name": "stdout",
          "text": [
            "\n",
            "Sorted Average Fare per Payment Type:\n",
            " payment\n",
            "credit card    13.694750\n",
            "Unknown        11.988636\n",
            "cash           11.592991\n",
            "Name: fare, dtype: float64\n"
          ]
        }
      ]
    },
    {
      "cell_type": "code",
      "source": [
        "normalized_fare = df.groupby('payment')['fare'].transform(lambda x: (x - x.mean()) / x.std())\n",
        "df['normalized_fare'] = normalized_fare\n",
        "print(\"\\nData with Normalized Fare:\\n\", df[['fare', 'normalized_fare']].head())"
      ],
      "metadata": {
        "colab": {
          "base_uri": "https://localhost:8080/"
        },
        "id": "d7t2rt1ucUlx",
        "outputId": "34463b1a-7a5c-4a8f-b85f-96b5d73e3d56"
      },
      "execution_count": null,
      "outputs": [
        {
          "output_type": "stream",
          "name": "stdout",
          "text": [
            "\n",
            "Data with Normalized Fare:\n",
            "    fare  normalized_fare\n",
            "0   7.0        -0.577166\n",
            "1   5.0        -0.586345\n",
            "2   7.5        -0.534060\n",
            "3  27.0         1.147068\n",
            "4   9.0        -0.404742\n"
          ]
        }
      ]
    },
    {
      "cell_type": "code",
      "source": [
        "# Sort by fare in descending order\n",
        "sorted_fares = df.sort_values(by='fare', ascending=False)\n",
        "print(\"\\nTop 5 Highest Fares:\\n\", sorted_fares[['fare', 'pickup', 'dropoff']].head())"
      ],
      "metadata": {
        "colab": {
          "base_uri": "https://localhost:8080/"
        },
        "id": "6XKgTH2WcWZg",
        "outputId": "8f70a6d7-6635-4cf3-9209-0ed9633ec6eb"
      },
      "execution_count": null,
      "outputs": [
        {
          "output_type": "stream",
          "name": "stdout",
          "text": [
            "\n",
            "Top 5 Highest Fares:\n",
            "        fare               pickup              dropoff\n",
            "5364  150.0  2019-03-17 16:59:17  2019-03-17 18:04:08\n",
            "5648  150.0  2019-03-19 14:21:35  2019-03-19 15:51:28\n",
            "4050  143.5  2019-03-13 14:05:19  2019-03-13 15:01:16\n",
            "2231  130.0  2019-03-11 10:17:31  2019-03-11 11:03:55\n",
            "622   120.0  2019-03-12 19:52:36  2019-03-12 19:52:55\n"
          ]
        }
      ]
    },
    {
      "cell_type": "code",
      "source": [
        "# Drop rows with any missing values\n",
        "cleaned_data = df.dropna()\n",
        "print(\"\\nData after dropping rows with missing values:\\n\", cleaned_data.head())\n",
        "\n",
        "# Find rows with missing values in 'distance' column\n",
        "missing_distance = df[df['distance'].isna()]\n",
        "print(\"\\nRows with missing 'distance':\\n\", missing_distance)"
      ],
      "metadata": {
        "colab": {
          "base_uri": "https://localhost:8080/"
        },
        "id": "NG9QdPk9cYZm",
        "outputId": "74e7924c-e01a-49ea-a065-581f4a475d9e"
      },
      "execution_count": null,
      "outputs": [
        {
          "output_type": "stream",
          "name": "stdout",
          "text": [
            "\n",
            "Data after dropping rows with missing values:\n",
            "                 pickup              dropoff  passengers  distance  fare   tip  \\\n",
            "0  2019-03-23 20:21:09  2019-03-23 20:27:24           1      1.60   7.0  2.15   \n",
            "1  2019-03-04 16:11:55  2019-03-04 16:19:00           1      0.79   5.0  0.00   \n",
            "2  2019-03-27 17:53:01  2019-03-27 18:00:25           1      1.37   7.5  2.36   \n",
            "3  2019-03-10 01:23:59  2019-03-10 01:49:51           1      7.70  27.0  6.15   \n",
            "4  2019-03-30 13:27:42  2019-03-30 13:37:14           3      2.16   9.0  1.10   \n",
            "\n",
            "   tolls  total   color      payment            pickup_zone  \\\n",
            "0    0.0  12.95  yellow  credit card        Lenox Hill West   \n",
            "1    0.0   9.30  yellow         cash  Upper West Side South   \n",
            "2    0.0  14.16  yellow  credit card          Alphabet City   \n",
            "3    0.0  36.95  yellow  credit card              Hudson Sq   \n",
            "4    0.0  13.40  yellow  credit card           Midtown East   \n",
            "\n",
            "            dropoff_zone pickup_borough dropoff_borough  normalized_fare  \n",
            "0    UN/Turtle Bay South      Manhattan       Manhattan        -0.577166  \n",
            "1  Upper West Side South      Manhattan       Manhattan        -0.586345  \n",
            "2           West Village      Manhattan       Manhattan        -0.534060  \n",
            "3         Yorkville West      Manhattan       Manhattan         1.147068  \n",
            "4         Yorkville West      Manhattan       Manhattan        -0.404742  \n",
            "\n",
            "Rows with missing 'distance':\n",
            " Empty DataFrame\n",
            "Columns: [pickup, dropoff, passengers, distance, fare, tip, tolls, total, color, payment, pickup_zone, dropoff_zone, pickup_borough, dropoff_borough, normalized_fare]\n",
            "Index: []\n"
          ]
        }
      ]
    },
    {
      "cell_type": "code",
      "source": [
        "import matplotlib.pyplot as plt\n",
        "import seaborn as sns\n",
        "\n",
        "# Histogram of fares\n",
        "plt.figure(figsize=(8, 5))\n",
        "sns.histplot(df['fare'], kde=True, bins=30, color='blue')\n",
        "plt.title(\"Fare Distribution\")\n",
        "plt.xlabel(\"Fare\")\n",
        "plt.ylabel(\"Frequency\")\n",
        "plt.show()\n",
        "\n",
        "# Scatter plot of fare vs distance\n",
        "plt.figure(figsize=(8, 5))\n",
        "sns.scatterplot(data=df, x='distance', y='fare', hue='passengers', palette='viridis')\n",
        "plt.title(\"Fare vs Distance\")\n",
        "plt.xlabel(\"Distance\")\n",
        "plt.ylabel(\"Fare\")\n",
        "plt.show()"
      ],
      "metadata": {
        "colab": {
          "base_uri": "https://localhost:8080/",
          "height": 957
        },
        "id": "2CeMNN3ucbY_",
        "outputId": "146e80e8-5fae-42fd-de8c-7fb64240733b"
      },
      "execution_count": null,
      "outputs": [
        {
          "output_type": "display_data",
          "data": {
            "text/plain": [
              "<Figure size 800x500 with 1 Axes>"
            ],
            "image/png": "[encoded data removed]"
          },
          "metadata": {}
        },
        {
          "output_type": "display_data",
          "data": {
            "text/plain": [
              "<Figure size 800x500 with 1 Axes>"
            ],
            "image/png": "[encoded data removed]"
          },
          "metadata": {}
        }
      ]
    },
    {
      "cell_type": "code",
      "source": [
        "# Save the cleaned dataset\n",
        "cleaned_data.to_csv('cleaned_taxi_data.csv', index=False)\n",
        "print(\"Cleaned dataset exported as 'cleaned_taxi_data.csv'.\")"
      ],
      "metadata": {
        "colab": {
          "base_uri": "https://localhost:8080/"
        },
        "id": "dGvJ-_E9cfhj",
        "outputId": "3c1afd9f-b7f5-4393-ecab-37353a56e10a"
      },
      "execution_count": null,
      "outputs": [
        {
          "output_type": "stream",
          "name": "stdout",
          "text": [
            "Cleaned dataset exported as 'cleaned_taxi_data.csv'.\n"
          ]
        }
      ]
    },
    {
      "cell_type": "code",
      "source": [
        "# Add a column categorizing rides based on fare\n",
        "def fare_category(fare):\n",
        "    if fare < 10:\n",
        "        return 'Low'\n",
        "    elif fare < 30:\n",
        "        return 'Medium'\n",
        "    else:\n",
        "        return 'High'\n",
        "\n",
        "df['fare_category'] = df['fare'].apply(fare_category)\n",
        "print(\"\\nData with Fare Category:\\n\", df[['fare', 'fare_category']].head())"
      ],
      "metadata": {
        "colab": {
          "base_uri": "https://localhost:8080/"
        },
        "id": "ZRNlNHQPchck",
        "outputId": "cb78e440-c647-47d0-ae62-cbb9c4d3d03e"
      },
      "execution_count": null,
      "outputs": [
        {
          "output_type": "stream",
          "name": "stdout",
          "text": [
            "\n",
            "Data with Fare Category:\n",
            "    fare fare_category\n",
            "0   7.0           Low\n",
            "1   5.0           Low\n",
            "2   7.5           Low\n",
            "3  27.0        Medium\n",
            "4   9.0           Low\n"
          ]
        }
      ]
    },
    {
      "cell_type": "code",
      "source": [
        "# Pivot table for average fare by pickup and payment type\n",
        "pivot_table = df.pivot_table(values='fare', index='pickup', columns='payment', aggfunc='mean')\n",
        "print(\"\\nPivot Table:\\n\", pivot_table)"
      ],
      "metadata": {
        "colab": {
          "base_uri": "https://localhost:8080/"
        },
        "id": "5cGM77T_cjpm",
        "outputId": "36ffc4a0-cc32-4fd4-8de2-4f3da61a27ab"
      },
      "execution_count": null,
      "outputs": [
        {
          "output_type": "stream",
          "name": "stdout",
          "text": [
            "\n",
            "Pivot Table:\n",
            " payment              Unknown  cash  credit card\n",
            "pickup                                         \n",
            "2019-02-28 23:29:03      NaN   5.0          NaN\n",
            "2019-03-01 00:03:29      NaN   NaN         10.0\n",
            "2019-03-01 00:08:32      NaN   NaN         22.5\n",
            "2019-03-01 00:15:53      NaN   NaN         25.5\n",
            "2019-03-01 00:29:22      NaN   NaN          4.5\n",
            "...                      ...   ...          ...\n",
            "2019-03-31 22:13:37      NaN   NaN          7.5\n",
            "2019-03-31 22:32:27      NaN   NaN          3.5\n",
            "2019-03-31 22:51:53      NaN   NaN          4.5\n",
            "2019-03-31 23:15:03      NaN   NaN         11.5\n",
            "2019-03-31 23:43:45      NaN  37.0          NaN\n",
            "\n",
            "[6414 rows x 3 columns]\n"
          ]
        }
      ]
    },
    {
      "cell_type": "code",
      "source": [
        "\n",
        "# Group data by pickup and dropoff\n",
        "hierarchical_data = df.groupby(['pickup', 'dropoff'])['fare'].mean().unstack()\n",
        "print(\"\\nHierarchical Data (Average Fare):\\n\", hierarchical_data)"
      ],
      "metadata": {
        "colab": {
          "base_uri": "https://localhost:8080/"
        },
        "id": "pTeFzsvMclZk",
        "outputId": "886c0ea2-0e0f-45d1-fc43-9b41b040b5db"
      },
      "execution_count": null,
      "outputs": [
        {
          "output_type": "stream",
          "name": "stdout",
          "text": [
            "\n",
            "Hierarchical Data (Average Fare):\n",
            " dropoff              2019-02-28 23:32:35  2019-03-01 00:13:32  \\\n",
            "pickup                                                          \n",
            "2019-02-28 23:29:03                  5.0                  NaN   \n",
            "2019-03-01 00:03:29                  NaN                 10.0   \n",
            "2019-03-01 00:08:32                  NaN                  NaN   \n",
            "2019-03-01 00:15:53                  NaN                  NaN   \n",
            "2019-03-01 00:29:22                  NaN                  NaN   \n",
            "...                                  ...                  ...   \n",
            "2019-03-31 22:13:37                  NaN                  NaN   \n",
            "2019-03-31 22:32:27                  NaN                  NaN   \n",
            "2019-03-31 22:51:53                  NaN                  NaN   \n",
            "2019-03-31 23:15:03                  NaN                  NaN   \n",
            "2019-03-31 23:43:45                  NaN                  NaN   \n",
            "\n",
            "dropoff              2019-03-01 00:29:47  2019-03-01 00:32:48  \\\n",
            "pickup                                                          \n",
            "2019-02-28 23:29:03                  NaN                  NaN   \n",
            "2019-03-01 00:03:29                  NaN                  NaN   \n",
            "2019-03-01 00:08:32                 22.5                  NaN   \n",
            "2019-03-01 00:15:53                  NaN                  NaN   \n",
            "2019-03-01 00:29:22                  NaN                  4.5   \n",
            "...                                  ...                  ...   \n",
            "2019-03-31 22:13:37                  NaN                  NaN   \n",
            "2019-03-31 22:32:27                  NaN                  NaN   \n",
            "2019-03-31 22:51:53                  NaN                  NaN   \n",
            "2019-03-31 23:15:03                  NaN                  NaN   \n",
            "2019-03-31 23:43:45                  NaN                  NaN   \n",
            "\n",
            "dropoff              2019-03-01 00:37:39  2019-03-01 00:47:58  \\\n",
            "pickup                                                          \n",
            "2019-02-28 23:29:03                  NaN                  NaN   \n",
            "2019-03-01 00:03:29                  NaN                  NaN   \n",
            "2019-03-01 00:08:32                  NaN                  NaN   \n",
            "2019-03-01 00:15:53                  NaN                 25.5   \n",
            "2019-03-01 00:29:22                  NaN                  NaN   \n",
            "...                                  ...                  ...   \n",
            "2019-03-31 22:13:37                  NaN                  NaN   \n",
            "2019-03-31 22:32:27                  NaN                  NaN   \n",
            "2019-03-31 22:51:53                  NaN                  NaN   \n",
            "2019-03-31 23:15:03                  NaN                  NaN   \n",
            "2019-03-31 23:43:45                  NaN                  NaN   \n",
            "\n",
            "dropoff              2019-03-01 00:53:18  2019-03-01 00:58:22  \\\n",
            "pickup                                                          \n",
            "2019-02-28 23:29:03                  NaN                  NaN   \n",
            "2019-03-01 00:03:29                  NaN                  NaN   \n",
            "2019-03-01 00:08:32                  NaN                  NaN   \n",
            "2019-03-01 00:15:53                  NaN                  NaN   \n",
            "2019-03-01 00:29:22                  NaN                  NaN   \n",
            "...                                  ...                  ...   \n",
            "2019-03-31 22:13:37                  NaN                  NaN   \n",
            "2019-03-31 22:32:27                  NaN                  NaN   \n",
            "2019-03-31 22:51:53                  NaN                  NaN   \n",
            "2019-03-31 23:15:03                  NaN                  NaN   \n",
            "2019-03-31 23:43:45                  NaN                  NaN   \n",
            "\n",
            "dropoff              2019-03-01 01:04:01  2019-03-01 01:29:25  ...  \\\n",
            "pickup                                                         ...   \n",
            "2019-02-28 23:29:03                  NaN                  NaN  ...   \n",
            "2019-03-01 00:03:29                  NaN                  NaN  ...   \n",
            "2019-03-01 00:08:32                  NaN                  NaN  ...   \n",
            "2019-03-01 00:15:53                  NaN                  NaN  ...   \n",
            "2019-03-01 00:29:22                  NaN                  NaN  ...   \n",
            "...                                  ...                  ...  ...   \n",
            "2019-03-31 22:13:37                  NaN                  NaN  ...   \n",
            "2019-03-31 22:32:27                  NaN                  NaN  ...   \n",
            "2019-03-31 22:51:53                  NaN                  NaN  ...   \n",
            "2019-03-31 23:15:03                  NaN                  NaN  ...   \n",
            "2019-03-31 23:43:45                  NaN                  NaN  ...   \n",
            "\n",
            "dropoff              2019-03-31 21:49:42  2019-03-31 21:58:58  \\\n",
            "pickup                                                          \n",
            "2019-02-28 23:29:03                  NaN                  NaN   \n",
            "2019-03-01 00:03:29                  NaN                  NaN   \n",
            "2019-03-01 00:08:32                  NaN                  NaN   \n",
            "2019-03-01 00:15:53                  NaN                  NaN   \n",
            "2019-03-01 00:29:22                  NaN                  NaN   \n",
            "...                                  ...                  ...   \n",
            "2019-03-31 22:13:37                  NaN                  NaN   \n",
            "2019-03-31 22:32:27                  NaN                  NaN   \n",
            "2019-03-31 22:51:53                  NaN                  NaN   \n",
            "2019-03-31 23:15:03                  NaN                  NaN   \n",
            "2019-03-31 23:43:45                  NaN                  NaN   \n",
            "\n",
            "dropoff              2019-03-31 22:02:47  2019-03-31 22:04:59  \\\n",
            "pickup                                                          \n",
            "2019-02-28 23:29:03                  NaN                  NaN   \n",
            "2019-03-01 00:03:29                  NaN                  NaN   \n",
            "2019-03-01 00:08:32                  NaN                  NaN   \n",
            "2019-03-01 00:15:53                  NaN                  NaN   \n",
            "2019-03-01 00:29:22                  NaN                  NaN   \n",
            "...                                  ...                  ...   \n",
            "2019-03-31 22:13:37                  NaN                  NaN   \n",
            "2019-03-31 22:32:27                  NaN                  NaN   \n",
            "2019-03-31 22:51:53                  NaN                  NaN   \n",
            "2019-03-31 23:15:03                  NaN                  NaN   \n",
            "2019-03-31 23:43:45                  NaN                  NaN   \n",
            "\n",
            "dropoff              2019-03-31 22:22:50  2019-03-31 22:34:45  \\\n",
            "pickup                                                          \n",
            "2019-02-28 23:29:03                  NaN                  NaN   \n",
            "2019-03-01 00:03:29                  NaN                  NaN   \n",
            "2019-03-01 00:08:32                  NaN                  NaN   \n",
            "2019-03-01 00:15:53                  NaN                  NaN   \n",
            "2019-03-01 00:29:22                  NaN                  NaN   \n",
            "...                                  ...                  ...   \n",
            "2019-03-31 22:13:37                  7.5                  NaN   \n",
            "2019-03-31 22:32:27                  NaN                  3.5   \n",
            "2019-03-31 22:51:53                  NaN                  NaN   \n",
            "2019-03-31 23:15:03                  NaN                  NaN   \n",
            "2019-03-31 23:43:45                  NaN                  NaN   \n",
            "\n",
            "dropoff              2019-03-31 22:36:31  2019-03-31 22:55:10  \\\n",
            "pickup                                                          \n",
            "2019-02-28 23:29:03                  NaN                  NaN   \n",
            "2019-03-01 00:03:29                  NaN                  NaN   \n",
            "2019-03-01 00:08:32                  NaN                  NaN   \n",
            "2019-03-01 00:15:53                  NaN                  NaN   \n",
            "2019-03-01 00:29:22                  NaN                  NaN   \n",
            "...                                  ...                  ...   \n",
            "2019-03-31 22:13:37                  NaN                  NaN   \n",
            "2019-03-31 22:32:27                  NaN                  NaN   \n",
            "2019-03-31 22:51:53                  NaN                  4.5   \n",
            "2019-03-31 23:15:03                  NaN                  NaN   \n",
            "2019-03-31 23:43:45                  NaN                  NaN   \n",
            "\n",
            "dropoff              2019-03-31 23:27:12  2019-04-01 00:13:58  \n",
            "pickup                                                         \n",
            "2019-02-28 23:29:03                  NaN                  NaN  \n",
            "2019-03-01 00:03:29                  NaN                  NaN  \n",
            "2019-03-01 00:08:32                  NaN                  NaN  \n",
            "2019-03-01 00:15:53                  NaN                  NaN  \n",
            "2019-03-01 00:29:22                  NaN                  NaN  \n",
            "...                                  ...                  ...  \n",
            "2019-03-31 22:13:37                  NaN                  NaN  \n",
            "2019-03-31 22:32:27                  NaN                  NaN  \n",
            "2019-03-31 22:51:53                  NaN                  NaN  \n",
            "2019-03-31 23:15:03                 11.5                  NaN  \n",
            "2019-03-31 23:43:45                  NaN                 37.0  \n",
            "\n",
            "[6414 rows x 6425 columns]\n"
          ]
        }
      ]
    },
    {
      "cell_type": "code",
      "source": [
        "# Convert 'pickup_time' (if available) to datetime\n",
        "if 'pickup_time' in df.columns:\n",
        "    df['pickup_time'] = pd.to_datetime(df['pickup_time'])\n",
        "\n",
        "    # Extract hour from timestamp\n",
        "    df['hour'] = df['pickup_time'].dt.hour\n",
        "    print(\"\\nDataset with Hour Extracted:\\n\", df[['pickup_time', 'hour']].head())"
      ],
      "metadata": {
        "id": "IpucT3-RcuXt"
      },
      "execution_count": null,
      "outputs": []
    },
    {
      "cell_type": "code",
      "source": [
        "import pandas as pd\n",
        "import matplotlib.pyplot as plt\n",
        "\n",
        "car = [\"A\", \"B\", \"C\", \"d\", \"E\", \"F\"]\n",
        "weight = [0.48, 1.7, 2, 2, 2.3, 3]\n",
        "\n",
        "# create a DataFrame\n",
        "data = {'Car': car, 'Weight': weight}\n",
        "df = pd.DataFrame(data)\n",
        "\n",
        "# plot using Pandas\n",
        "df.plot(x='Car', y='Weight', kind='line', marker='*')\n",
        "plt.xlabel('Car')\n",
        "plt.ylabel('Weight')\n",
        "plt.title('Car Weights')\n",
        "plt.show()"
      ],
      "metadata": {
        "colab": {
          "base_uri": "https://localhost:8080/",
          "height": 472
        },
        "id": "LbdEJj6UcxS9",
        "outputId": "976a2751-27af-46b2-d913-6ccded473f33"
      },
      "execution_count": null,
      "outputs": [
        {
          "output_type": "display_data",
          "data": {
            "text/plain": [
              "<Figure size 640x480 with 1 Axes>"
            ],
            "image/png": "[encoded data removed]"
          },
          "metadata": {}
        }
      ]
    },
    {
      "cell_type": "code",
      "source": [
        "import pandas as pd\n",
        "import matplotlib.pyplot as plt\n",
        "\n",
        "car = [\"A\", \"B\", \"C\", \"D\", \"F\", \"G\"]\n",
        "weight = [0.48, 1.7, 2, 2, 2.3, 3]\n",
        "\n",
        "# create a DataFrame\n",
        "data = {'Car': car, 'Weight': weight}\n",
        "df = pd.DataFrame(data)\n",
        "\n",
        "# scatter plot using Pandas\n",
        "df.plot(x='Car', y='Weight', kind='scatter', marker='+', color='red')\n",
        "plt.xlabel('Car')\n",
        "plt.ylabel('Weight')\n",
        "plt.title('Car Weights (Scatter Plot)')\n",
        "#plt.grid(True)\n",
        "plt.show()"
      ],
      "metadata": {
        "colab": {
          "base_uri": "https://localhost:8080/",
          "height": 472
        },
        "id": "9vguSV2Yc07_",
        "outputId": "1b52c966-5a76-4d1d-f067-161caf407436"
      },
      "execution_count": null,
      "outputs": [
        {
          "output_type": "display_data",
          "data": {
            "text/plain": [
              "<Figure size 640x480 with 1 Axes>"
            ],
            "image/png": "[encoded data removed]"
          },
          "metadata": {}
        }
      ]
    },
    {
      "cell_type": "code",
      "source": [
        "\n",
        "import pandas as pd\n",
        "import matplotlib.pyplot as plt\n",
        "\n",
        "car = [\"A\", \"B\", \"C\", \"D\", \"F\", \"G\"]\n",
        "weight = [0.48, 1.7, 2, 2, 2.3, 3]\n",
        "\n",
        "# create a DataFrame\n",
        "data = {'Car': car, 'Weight': weight}\n",
        "df = pd.DataFrame(data)\n",
        "\n",
        "# bar graph using Pandas\n",
        "df.plot(x='Car', y='Weight', kind='bar', color='silver')\n",
        "plt.xlabel('Car')\n",
        "plt.ylabel('Weight')\n",
        "plt.title('Car Weights (Bar Graph)')\n",
        "plt.tight_layout()\n",
        "plt.show()"
      ],
      "metadata": {
        "colab": {
          "base_uri": "https://localhost:8080/",
          "height": 487
        },
        "id": "fxfdffW2c356",
        "outputId": "bafd74e4-ca17-4df4-ab98-c8c88cdbff3b"
      },
      "execution_count": null,
      "outputs": [
        {
          "output_type": "display_data",
          "data": {
            "text/plain": [
              "<Figure size 640x480 with 1 Axes>"
            ],
            "image/png": "[encoded data removed]"
          },
          "metadata": {}
        }
      ]
    },
    {
      "cell_type": "code",
      "source": [
        "import pandas as pd\n",
        "import matplotlib.pyplot as plt\n",
        "\n",
        "weight = [0.48, 1.7, 2, 3]\n",
        "\n",
        "# create a DataFrame\n",
        "data = {'Weight': weight}\n",
        "df = pd.DataFrame(data)\n",
        "\n",
        "# histogram using Pandas\n",
        "df['Weight'].plot(kind='hist', bins=10, edgecolor='black', color='blue')\n",
        "plt.show()"
      ],
      "metadata": {
        "colab": {
          "base_uri": "https://localhost:8080/",
          "height": 430
        },
        "id": "K9Tk3sUcc6BB",
        "outputId": "a2ca492b-952b-4bdb-ce4d-1f8ef20c2f45"
      },
      "execution_count": null,
      "outputs": [
        {
          "output_type": "display_data",
          "data": {
            "text/plain": [
              "<Figure size 640x480 with 1 Axes>"
            ],
            "image/png": "[encoded data removed]"
          },
          "metadata": {}
        }
      ]
    },
    {
      "cell_type": "code",
      "source": [
        "import pandas as pd\n",
        "\n",
        "data_dict = {'name': ['s1', 's2', 's3', 's4', 's5', 's6'],'age': [20, 20, 21, 20, 21, 20],'math_marks': [100, 90, 91, 98, 92, 95], 'physics_marks': [90, 100, 91, 92, 98, 95],'chem_marks': [93, 89, 99, 92, 94, 92]}\n",
        "df = pd.DataFrame(data_dict)\n",
        "df.head()"
      ],
      "metadata": {
        "colab": {
          "base_uri": "https://localhost:8080/",
          "height": 206
        },
        "id": "vLL17O1Ic8Ju",
        "outputId": "0f4ef3f6-60b4-435d-e70b-47251127cf79"
      },
      "execution_count": null,
      "outputs": [
        {
          "output_type": "execute_result",
          "data": {
            "text/plain": [
              "  name  age  math_marks  physics_marks  chem_marks\n",
              "0   s1   20         100             90          93\n",
              "1   s2   20          90            100          89\n",
              "2   s3   21          91             91          99\n",
              "3   s4   20          98             92          92\n",
              "4   s5   21          92             98          94"
            ],
            "text/html": [
              "\n",
              "  <div id=\"df-4461b8f3-5924-4f72-8026-b500f52705fd\" class=\"colab-df-container\">\n",
              "    <div>\n",
              "<style scoped>\n",
              "    .dataframe tbody tr th:only-of-type {\n",
              "        vertical-align: middle;\n",
              "    }\n",
              "\n",
              "    .dataframe tbody tr th {\n",
              "        vertical-align: top;\n",
              "    }\n",
              "\n",
              "    .dataframe thead th {\n",
              "        text-align: right;\n",
              "    }\n",
              "</style>\n",
              "<table border=\"1\" class=\"dataframe\">\n",
              "  <thead>\n",
              "    <tr style=\"text-align: right;\">\n",
              "      <th></th>\n",
              "      <th>name</th>\n",
              "      <th>age</th>\n",
              "      <th>math_marks</th>\n",
              "      <th>physics_marks</th>\n",
              "      <th>chem_marks</th>\n",
              "    </tr>\n",
              "  </thead>\n",
              "  <tbody>\n",
              "    <tr>\n",
              "      <th>0</th>\n",
              "      <td>s1</td>\n",
              "      <td>20</td>\n",
              "      <td>100</td>\n",
              "      <td>90</td>\n",
              "      <td>93</td>\n",
              "    </tr>\n",
              "    <tr>\n",
              "      <th>1</th>\n",
              "      <td>s2</td>\n",
              "      <td>20</td>\n",
              "      <td>90</td>\n",
              "      <td>100</td>\n",
              "      <td>89</td>\n",
              "    </tr>\n",
              "    <tr>\n",
              "      <th>2</th>\n",
              "      <td>s3</td>\n",
              "      <td>21</td>\n",
              "      <td>91</td>\n",
              "      <td>91</td>\n",
              "      <td>99</td>\n",
              "    </tr>\n",
              "    <tr>\n",
              "      <th>3</th>\n",
              "      <td>s4</td>\n",
              "      <td>20</td>\n",
              "      <td>98</td>\n",
              "      <td>92</td>\n",
              "      <td>92</td>\n",
              "    </tr>\n",
              "    <tr>\n",
              "      <th>4</th>\n",
              "      <td>s5</td>\n",
              "      <td>21</td>\n",
              "      <td>92</td>\n",
              "      <td>98</td>\n",
              "      <td>94</td>\n",
              "    </tr>\n",
              "  </tbody>\n",
              "</table>\n",
              "</div>\n",
              "    <div class=\"colab-df-buttons\">\n",
              "\n",
              "  <div class=\"colab-df-container\">\n",
              "    <button class=\"colab-df-convert\" onclick=\"convertToInteractive('df-4461b8f3-5924-4f72-8026-b500f52705fd')\"\n",
              "            title=\"Convert this dataframe to an interactive table.\"\n",
              "            style=\"display:none;\">\n",
              "\n",
              "  <svg xmlns=\"http://www.w3.org/2000/svg\" height=\"24px\" viewBox=\"0 -960 960 960\">\n",
              "    <path d=\"M120-120v-720h720v720H120Zm60-500h600v-160H180v160Zm220 220h160v-160H400v160Zm0 220h160v-160H400v160ZM180-400h160v-160H180v160Zm440 0h160v-160H620v160ZM180-180h160v-160H180v160Zm440 0h160v-160H620v160Z\"/>\n",
              "  </svg>\n",
              "    </button>\n",
              "\n",
              "  <style>\n",
              "    .colab-df-container {\n",
              "      display:flex;\n",
              "      gap: 12px;\n",
              "    }\n",
              "\n",
              "    .colab-df-convert {\n",
              "      background-color: #E8F0FE;\n",
              "      border: none;\n",
              "      border-radius: 50%;\n",
              "      cursor: pointer;\n",
              "      display: none;\n",
              "      fill: #1967D2;\n",
              "      height: 32px;\n",
              "      padding: 0 0 0 0;\n",
              "      width: 32px;\n",
              "    }\n",
              "\n",
              "    .colab-df-convert:hover {\n",
              "      background-color: #E2EBFA;\n",
              "      box-shadow: 0px 1px 2px rgba(60, 64, 67, 0.3), 0px 1px 3px 1px rgba(60, 64, 67, 0.15);\n",
              "      fill: #174EA6;\n",
              "    }\n",
              "\n",
              "    .colab-df-buttons div {\n",
              "      margin-bottom: 4px;\n",
              "    }\n",
              "\n",
              "    [theme=dark] .colab-df-convert {\n",
              "      background-color: #3B4455;\n",
              "      fill: #D2E3FC;\n",
              "    }\n",
              "\n",
              "    [theme=dark] .colab-df-convert:hover {\n",
              "      background-color: #434B5C;\n",
              "      box-shadow: 0px 1px 3px 1px rgba(0, 0, 0, 0.15);\n",
              "      filter: drop-shadow(0px 1px 2px rgba(0, 0, 0, 0.3));\n",
              "      fill: #FFFFFF;\n",
              "    }\n",
              "  </style>\n",
              "\n",
              "    <script>\n",
              "      const buttonEl =\n",
              "        document.querySelector('#df-4461b8f3-5924-4f72-8026-b500f52705fd button.colab-df-convert');\n",
              "      buttonEl.style.display =\n",
              "        google.colab.kernel.accessAllowed ? 'block' : 'none';\n",
              "\n",
              "      async function convertToInteractive(key) {\n",
              "        const element = document.querySelector('#df-4461b8f3-5924-4f72-8026-b500f52705fd');\n",
              "        const dataTable =\n",
              "          await google.colab.kernel.invokeFunction('convertToInteractive',\n",
              "                                                    [key], {});\n",
              "        if (!dataTable) return;\n",
              "\n",
              "        const docLinkHtml = 'Like what you see? Visit the ' +\n",
              "          '<a target=\"_blank\" href=https://colab.research.google.com/notebooks/data_table.ipynb>data table notebook</a>'\n",
              "          + ' to learn more about interactive tables.';\n",
              "        element.innerHTML = '';\n",
              "        dataTable['output_type'] = 'display_data';\n",
              "        await google.colab.output.renderOutput(dataTable, element);\n",
              "        const docLink = document.createElement('div');\n",
              "        docLink.innerHTML = docLinkHtml;\n",
              "        element.appendChild(docLink);\n",
              "      }\n",
              "    </script>\n",
              "  </div>\n",
              "\n",
              "\n",
              "<div id=\"df-8278715e-4eaf-4d6c-b8f5-a55e1eac9a69\">\n",
              "  <button class=\"colab-df-quickchart\" onclick=\"quickchart('df-8278715e-4eaf-4d6c-b8f5-a55e1eac9a69')\"\n",
              "            title=\"Suggest charts\"\n",
              "            style=\"display:none;\">\n",
              "\n",
              "<svg xmlns=\"http://www.w3.org/2000/svg\" height=\"24px\"viewBox=\"0 0 24 24\"\n",
              "     width=\"24px\">\n",
              "    <g>\n",
              "        <path d=\"M19 3H5c-1.1 0-2 .9-2 2v14c0 1.1.9 2 2 2h14c1.1 0 2-.9 2-2V5c0-1.1-.9-2-2-2zM9 17H7v-7h2v7zm4 0h-2V7h2v10zm4 0h-2v-4h2v4z\"/>\n",
              "    </g>\n",
              "</svg>\n",
              "  </button>\n",
              "\n",
              "<style>\n",
              "  .colab-df-quickchart {\n",
              "      --bg-color: #E8F0FE;\n",
              "      --fill-color: #1967D2;\n",
              "      --hover-bg-color: #E2EBFA;\n",
              "      --hover-fill-color: #174EA6;\n",
              "      --disabled-fill-color: #AAA;\n",
              "      --disabled-bg-color: #DDD;\n",
              "  }\n",
              "\n",
              "  [theme=dark] .colab-df-quickchart {\n",
              "      --bg-color: #3B4455;\n",
              "      --fill-color: #D2E3FC;\n",
              "      --hover-bg-color: #434B5C;\n",
              "      --hover-fill-color: #FFFFFF;\n",
              "      --disabled-bg-color: #3B4455;\n",
              "      --disabled-fill-color: #666;\n",
              "  }\n",
              "\n",
              "  .colab-df-quickchart {\n",
              "    background-color: var(--bg-color);\n",
              "    border: none;\n",
              "    border-radius: 50%;\n",
              "    cursor: pointer;\n",
              "    display: none;\n",
              "    fill: var(--fill-color);\n",
              "    height: 32px;\n",
              "    padding: 0;\n",
              "    width: 32px;\n",
              "  }\n",
              "\n",
              "  .colab-df-quickchart:hover {\n",
              "    background-color: var(--hover-bg-color);\n",
              "    box-shadow: 0 1px 2px rgba(60, 64, 67, 0.3), 0 1px 3px 1px rgba(60, 64, 67, 0.15);\n",
              "    fill: var(--button-hover-fill-color);\n",
              "  }\n",
              "\n",
              "  .colab-df-quickchart-complete:disabled,\n",
              "  .colab-df-quickchart-complete:disabled:hover {\n",
              "    background-color: var(--disabled-bg-color);\n",
              "    fill: var(--disabled-fill-color);\n",
              "    box-shadow: none;\n",
              "  }\n",
              "\n",
              "  .colab-df-spinner {\n",
              "    border: 2px solid var(--fill-color);\n",
              "    border-color: transparent;\n",
              "    border-bottom-color: var(--fill-color);\n",
              "    animation:\n",
              "      spin 1s steps(1) infinite;\n",
              "  }\n",
              "\n",
              "  @keyframes spin {\n",
              "    0% {\n",
              "      border-color: transparent;\n",
              "      border-bottom-color: var(--fill-color);\n",
              "      border-left-color: var(--fill-color);\n",
              "    }\n",
              "    20% {\n",
              "      border-color: transparent;\n",
              "      border-left-color: var(--fill-color);\n",
              "      border-top-color: var(--fill-color);\n",
              "    }\n",
              "    30% {\n",
              "      border-color: transparent;\n",
              "      border-left-color: var(--fill-color);\n",
              "      border-top-color: var(--fill-color);\n",
              "      border-right-color: var(--fill-color);\n",
              "    }\n",
              "    40% {\n",
              "      border-color: transparent;\n",
              "      border-right-color: var(--fill-color);\n",
              "      border-top-color: var(--fill-color);\n",
              "    }\n",
              "    60% {\n",
              "      border-color: transparent;\n",
              "      border-right-color: var(--fill-color);\n",
              "    }\n",
              "    80% {\n",
              "      border-color: transparent;\n",
              "      border-right-color: var(--fill-color);\n",
              "      border-bottom-color: var(--fill-color);\n",
              "    }\n",
              "    90% {\n",
              "      border-color: transparent;\n",
              "      border-bottom-color: var(--fill-color);\n",
              "    }\n",
              "  }\n",
              "</style>\n",
              "\n",
              "  <script>\n",
              "    async function quickchart(key) {\n",
              "      const quickchartButtonEl =\n",
              "        document.querySelector('#' + key + ' button');\n",
              "      quickchartButtonEl.disabled = true;  // To prevent multiple clicks.\n",
              "      quickchartButtonEl.classList.add('colab-df-spinner');\n",
              "      try {\n",
              "        const charts = await google.colab.kernel.invokeFunction(\n",
              "            'suggestCharts', [key], {});\n",
              "      } catch (error) {\n",
              "        console.error('Error during call to suggestCharts:', error);\n",
              "      }\n",
              "      quickchartButtonEl.classList.remove('colab-df-spinner');\n",
              "      quickchartButtonEl.classList.add('colab-df-quickchart-complete');\n",
              "    }\n",
              "    (() => {\n",
              "      let quickchartButtonEl =\n",
              "        document.querySelector('#df-8278715e-4eaf-4d6c-b8f5-a55e1eac9a69 button');\n",
              "      quickchartButtonEl.style.display =\n",
              "        google.colab.kernel.accessAllowed ? 'block' : 'none';\n",
              "    })();\n",
              "  </script>\n",
              "</div>\n",
              "\n",
              "    </div>\n",
              "  </div>\n"
            ],
            "application/vnd.google.colaboratory.intrinsic+json": {
              "type": "dataframe",
              "variable_name": "df",
              "summary": "{\n  \"name\": \"df\",\n  \"rows\": 6,\n  \"fields\": [\n    {\n      \"column\": \"name\",\n      \"properties\": {\n        \"dtype\": \"string\",\n        \"num_unique_values\": 6,\n        \"samples\": [\n          \"s1\",\n          \"s2\",\n          \"s6\"\n        ],\n        \"semantic_type\": \"\",\n        \"description\": \"\"\n      }\n    },\n    {\n      \"column\": \"age\",\n      \"properties\": {\n        \"dtype\": \"number\",\n        \"std\": 0,\n        \"min\": 20,\n        \"max\": 21,\n        \"num_unique_values\": 2,\n        \"samples\": [\n          21,\n          20\n        ],\n        \"semantic_type\": \"\",\n        \"description\": \"\"\n      }\n    },\n    {\n      \"column\": \"math_marks\",\n      \"properties\": {\n        \"dtype\": \"number\",\n        \"std\": 4,\n        \"min\": 90,\n        \"max\": 100,\n        \"num_unique_values\": 6,\n        \"samples\": [\n          100,\n          90\n        ],\n        \"semantic_type\": \"\",\n        \"description\": \"\"\n      }\n    },\n    {\n      \"column\": \"physics_marks\",\n      \"properties\": {\n        \"dtype\": \"number\",\n        \"std\": 4,\n        \"min\": 90,\n        \"max\": 100,\n        \"num_unique_values\": 6,\n        \"samples\": [\n          90,\n          100\n        ],\n        \"semantic_type\": \"\",\n        \"description\": \"\"\n      }\n    },\n    {\n      \"column\": \"chem_marks\",\n      \"properties\": {\n        \"dtype\": \"number\",\n        \"std\": 3,\n        \"min\": 89,\n        \"max\": 99,\n        \"num_unique_values\": 5,\n        \"samples\": [\n          89,\n          94\n        ],\n        \"semantic_type\": \"\",\n        \"description\": \"\"\n      }\n    }\n  ]\n}"
            }
          },
          "metadata": {},
          "execution_count": 64
        }
      ]
    },
    {
      "cell_type": "code",
      "source": [
        "# Scatter plot using pandas\n",
        "ax = df.plot(kind='scatter', x='math_marks', y='physics_marks', color='red', title='ScatterPlot')\n",
        "\n",
        "# Customizing plot elements\n",
        "ax.set_xlabel(\"Math Marks\")\n",
        "ax.set_ylabel(\"Physics Marks\")"
      ],
      "metadata": {
        "colab": {
          "base_uri": "https://localhost:8080/",
          "height": 489
        },
        "id": "vQV3sJAKc92e",
        "outputId": "69fe0f04-eab9-4f8d-cac0-5b4542eb118e"
      },
      "execution_count": null,
      "outputs": [
        {
          "output_type": "execute_result",
          "data": {
            "text/plain": [
              "Text(0, 0.5, 'Physics Marks')"
            ]
          },
          "metadata": {},
          "execution_count": 65
        },
        {
          "output_type": "display_data",
          "data": {
            "text/plain": [
              "<Figure size 640x480 with 1 Axes>"
            ],
            "image/png": "[encoded data removed]"
          },
          "metadata": {}
        }
      ]
    },
    {
      "cell_type": "code",
      "source": [
        "\n",
        "# Plot multiple line plots using only pandas\n",
        "df.plot(x='name', y=['math_marks', 'physics_marks', 'chem_marks'],\n",
        "        kind='line',\n",
        "        title='Line Plots of Marks in Different Subjects')"
      ],
      "metadata": {
        "colab": {
          "base_uri": "https://localhost:8080/",
          "height": 489
        },
        "id": "cxvmta3-dJyo",
        "outputId": "d9624ed5-9cee-4074-d7df-c08a19cca681"
      },
      "execution_count": null,
      "outputs": [
        {
          "output_type": "execute_result",
          "data": {
            "text/plain": [
              "<Axes: title={'center': 'Line Plots of Marks in Different Subjects'}, xlabel='name'>"
            ]
          },
          "metadata": {},
          "execution_count": 66
        },
        {
          "output_type": "display_data",
          "data": {
            "text/plain": [
              "<Figure size 640x480 with 1 Axes>"
            ],
            "image/png": "[encoded data removed]"
          },
          "metadata": {}
        }
      ]
    },
    {
      "cell_type": "code",
      "source": [
        "import random\n",
        "\n",
        "# Always produces the same number with seed 30\n",
        "print('Random number with seed 30')\n",
        "for i in range(3):\n",
        "    #random.seed(30)\n",
        "    print(random.randint(25, 50))"
      ],
      "metadata": {
        "colab": {
          "base_uri": "https://localhost:8080/"
        },
        "id": "1ZSppYlPdM99",
        "outputId": "e8740e24-94a5-46c8-aeb8-2ec58fd5259e"
      },
      "execution_count": null,
      "outputs": [
        {
          "output_type": "stream",
          "name": "stdout",
          "text": [
            "Random number with seed 30\n",
            "41\n",
            "37\n",
            "30\n"
          ]
        }
      ]
    },
    {
      "cell_type": "code",
      "source": [
        "\n",
        "import random\n",
        "\n",
        "# Always produces the same number with seed 30\n",
        "print('Random number with seed 30')\n",
        "for i in range(3):\n",
        "    random.seed(200)\n",
        "    print(random.randint(125, 150))"
      ],
      "metadata": {
        "colab": {
          "base_uri": "https://localhost:8080/"
        },
        "id": "48_BJaZadO94",
        "outputId": "0e9e59fd-a8a3-4015-eb34-827d50b9fd2c"
      },
      "execution_count": null,
      "outputs": [
        {
          "output_type": "stream",
          "name": "stdout",
          "text": [
            "Random number with seed 30\n",
            "126\n",
            "126\n",
            "126\n"
          ]
        }
      ]
    },
    {
      "cell_type": "code",
      "source": [
        "import random\n",
        "\n",
        "# Always produces the same number with seed 30\n",
        "print('Random number with seed 30')\n",
        "for i in range(2):\n",
        "    print('Run', i,\":\")\n",
        "    random.seed(30)\n",
        "    for j in range(3):\n",
        "        print(j, \":\", random.randint(25, 50));"
      ],
      "metadata": {
        "colab": {
          "base_uri": "https://localhost:8080/"
        },
        "id": "ERxBb3vLdQ4O",
        "outputId": "28b5b6be-a261-4363-e961-86b11d85c676"
      },
      "execution_count": null,
      "outputs": [
        {
          "output_type": "stream",
          "name": "stdout",
          "text": [
            "Random number with seed 30\n",
            "Run 0 :\n",
            "0 : 42\n",
            "1 : 50\n",
            "2 : 34\n",
            "Run 1 :\n",
            "0 : 42\n",
            "1 : 50\n",
            "2 : 34\n"
          ]
        }
      ]
    },
    {
      "cell_type": "code",
      "source": [
        "\n",
        "import random\n",
        "\n",
        "# # Generate a random sequence of elements\n",
        "# Always shuffles in the same way with seed 30\n",
        "for i in range(2):\n",
        "    random.seed(30)\n",
        "    my_list = [10, 20, 30, 40, 50]\n",
        "    random.shuffle(my_list)\n",
        "    print(my_list)"
      ],
      "metadata": {
        "colab": {
          "base_uri": "https://localhost:8080/"
        },
        "id": "zvISA4GZdTcY",
        "outputId": "752c2f3b-b2f2-4e98-e8fa-50465daecf9c"
      },
      "execution_count": null,
      "outputs": [
        {
          "output_type": "stream",
          "name": "stdout",
          "text": [
            "[20, 10, 40, 30, 50]\n",
            "[20, 10, 40, 30, 50]\n"
          ]
        }
      ]
    },
    {
      "cell_type": "code",
      "source": [
        "\n",
        "import random\n",
        "\n",
        "random.seed(30)\n",
        "print(\"first Number\", random.randint(25, 50))\n",
        "\n",
        "# generates a different random number\n",
        "print(\"Second Number \", random.randint(25, 50))\n",
        "\n",
        "# will generate a same random number as first one because seed value is same\n",
        "random.seed(30)\n",
        "print(\"Third Number\", random.randint(25, 50))"
      ],
      "metadata": {
        "colab": {
          "base_uri": "https://localhost:8080/"
        },
        "id": "N-KaejAwdU8C",
        "outputId": "dd3b0448-c894-4386-f7df-14d64c3d0b30"
      },
      "execution_count": null,
      "outputs": [
        {
          "output_type": "stream",
          "name": "stdout",
          "text": [
            "first Number 42\n",
            "Second Number  50\n",
            "Third Number 42\n"
          ]
        }
      ]
    },
    {
      "cell_type": "code",
      "source": [
        "import random\n",
        "from datetime import datetime\n",
        "\n",
        "# Random number with system time\n",
        "random.seed(datetime.now())\n",
        "print(\"Random Number\", random.randint(25, 50))\n",
        "# Output 50"
      ],
      "metadata": {
        "colab": {
          "base_uri": "https://localhost:8080/",
          "height": 349
        },
        "id": "bqXezUO_dWts",
        "outputId": "41e9b63d-e236-4002-8c4b-15adb4717ae1"
      },
      "execution_count": null,
      "outputs": [
        {
          "output_type": "error",
          "ename": "TypeError",
          "evalue": "The only supported seed types are: None,\nint, float, str, bytes, and bytearray.",
          "traceback": [
            "\u001b[0;31m---------------------------------------------------------------------------\u001b[0m",
            "\u001b[0;31mTypeError\u001b[0m                                 Traceback (most recent call last)",
            "\u001b[0;32m<ipython-input-72-0a828869f927>\u001b[0m in \u001b[0;36m<cell line: 0>\u001b[0;34m()\u001b[0m\n\u001b[1;32m      3\u001b[0m \u001b[0;34m\u001b[0m\u001b[0m\n\u001b[1;32m      4\u001b[0m \u001b[0;31m# Random number with system time\u001b[0m\u001b[0;34m\u001b[0m\u001b[0;34m\u001b[0m\u001b[0m\n\u001b[0;32m----> 5\u001b[0;31m \u001b[0mrandom\u001b[0m\u001b[0;34m.\u001b[0m\u001b[0mseed\u001b[0m\u001b[0;34m(\u001b[0m\u001b[0mdatetime\u001b[0m\u001b[0;34m.\u001b[0m\u001b[0mnow\u001b[0m\u001b[0;34m(\u001b[0m\u001b[0;34m)\u001b[0m\u001b[0;34m)\u001b[0m\u001b[0;34m\u001b[0m\u001b[0;34m\u001b[0m\u001b[0m\n\u001b[0m\u001b[1;32m      6\u001b[0m \u001b[0mprint\u001b[0m\u001b[0;34m(\u001b[0m\u001b[0;34m\"Random Number\"\u001b[0m\u001b[0;34m,\u001b[0m \u001b[0mrandom\u001b[0m\u001b[0;34m.\u001b[0m\u001b[0mrandint\u001b[0m\u001b[0;34m(\u001b[0m\u001b[0;36m25\u001b[0m\u001b[0;34m,\u001b[0m \u001b[0;36m50\u001b[0m\u001b[0;34m)\u001b[0m\u001b[0;34m)\u001b[0m\u001b[0;34m\u001b[0m\u001b[0;34m\u001b[0m\u001b[0m\n\u001b[1;32m      7\u001b[0m \u001b[0;31m# Output 50\u001b[0m\u001b[0;34m\u001b[0m\u001b[0;34m\u001b[0m\u001b[0m\n",
            "\u001b[0;32m/usr/lib/python3.11/random.py\u001b[0m in \u001b[0;36mseed\u001b[0;34m(self, a, version)\u001b[0m\n\u001b[1;32m    158\u001b[0m \u001b[0;34m\u001b[0m\u001b[0m\n\u001b[1;32m    159\u001b[0m         \u001b[0;32melif\u001b[0m \u001b[0;32mnot\u001b[0m \u001b[0misinstance\u001b[0m\u001b[0;34m(\u001b[0m\u001b[0ma\u001b[0m\u001b[0;34m,\u001b[0m \u001b[0;34m(\u001b[0m\u001b[0mtype\u001b[0m\u001b[0;34m(\u001b[0m\u001b[0;32mNone\u001b[0m\u001b[0;34m)\u001b[0m\u001b[0;34m,\u001b[0m \u001b[0mint\u001b[0m\u001b[0;34m,\u001b[0m \u001b[0mfloat\u001b[0m\u001b[0;34m,\u001b[0m \u001b[0mstr\u001b[0m\u001b[0;34m,\u001b[0m \u001b[0mbytes\u001b[0m\u001b[0;34m,\u001b[0m \u001b[0mbytearray\u001b[0m\u001b[0;34m)\u001b[0m\u001b[0;34m)\u001b[0m\u001b[0;34m:\u001b[0m\u001b[0;34m\u001b[0m\u001b[0;34m\u001b[0m\u001b[0m\n\u001b[0;32m--> 160\u001b[0;31m             raise TypeError('The only supported seed types are: None,\\n'\n\u001b[0m\u001b[1;32m    161\u001b[0m                             'int, float, str, bytes, and bytearray.')\n\u001b[1;32m    162\u001b[0m \u001b[0;34m\u001b[0m\u001b[0m\n",
            "\u001b[0;31mTypeError\u001b[0m: The only supported seed types are: None,\nint, float, str, bytes, and bytearray."
          ]
        }
      ]
    },
    {
      "cell_type": "code",
      "source": [
        "\n",
        "import random\n",
        "\n",
        "# Random seed with randrange\n",
        "random.seed(350)\n",
        "print(random.randrange(300, 500))\n",
        "# output 336\n",
        "\n",
        "random.seed(350)\n",
        "print(random.randrange(300, 500))\n",
        "# Output 336"
      ],
      "metadata": {
        "colab": {
          "base_uri": "https://localhost:8080/"
        },
        "id": "9VuhkvdDddWd",
        "outputId": "4750aad6-6edb-4671-a941-34cdecb50a8e"
      },
      "execution_count": null,
      "outputs": [
        {
          "output_type": "stream",
          "name": "stdout",
          "text": [
            "392\n",
            "392\n"
          ]
        }
      ]
    },
    {
      "cell_type": "code",
      "source": [
        "import random\n",
        "names = [\"Alex\", \"Emma\", \"Kelly\", \"Scott\", \"Jessa\"]\n",
        "\n",
        "random.seed(50)\n",
        "random_item = random.choice(names)\n",
        "print (\"First random name from list \", random_item)\n",
        "# output scott\n",
        "\n",
        "random.seed(50)\n",
        "random_item = random.choice(names)\n",
        "print (\"Second random name from list \", random_item)\n",
        "# output Scott"
      ],
      "metadata": {
        "colab": {
          "base_uri": "https://localhost:8080/"
        },
        "id": "B9n_1z_Vdhil",
        "outputId": "1134839e-3fa9-43fa-dc57-632067274bb6"
      },
      "execution_count": null,
      "outputs": [
        {
          "output_type": "stream",
          "name": "stdout",
          "text": [
            "First random name from list  Scott\n",
            "Second random name from list  Scott\n"
          ]
        }
      ]
    },
    {
      "cell_type": "code",
      "source": [
        "\n",
        "class Car:\n",
        "    def __init__(self, brand, model):\n",
        "        self.brand = brand  # Encapsulation\n",
        "        self.model = model\n",
        "\n",
        "    def display_info(self):  # Abstraction\n",
        "        return f\"Car Brand: {self.brand}, Model: {self.model}\"\n",
        "\n",
        "# Inheritance and Polymorphism\n",
        "class ElectricCar(Car):\n",
        "    def __init__(self, brand, model, battery_capacity):\n",
        "        super().__init__(brand, model)\n",
        "        self.battery_capacity = battery_capacity\n",
        "\n",
        "    def display_info(self):  # Polymorphism\n",
        "        return f\"{super().display_info()}, Battery: {self.battery_capacity} kWh\"\n",
        "\n",
        "car1 = ElectricCar(\"Tesla\", \"Model S\", 100)\n",
        "print(car1.display_info())"
      ],
      "metadata": {
        "colab": {
          "base_uri": "https://localhost:8080/"
        },
        "id": "NqQdykttdjbq",
        "outputId": "3f9c1db8-17f9-4dff-985a-da0bef3593be"
      },
      "execution_count": null,
      "outputs": [
        {
          "output_type": "stream",
          "name": "stdout",
          "text": [
            "Car Brand: Tesla, Model: Model S, Battery: 100 kWh\n"
          ]
        }
      ]
    },
    {
      "cell_type": "code",
      "source": [
        "\n",
        "class A:\n",
        "\n",
        "    # class attribute\n",
        "    name = \"\"\n",
        "    age = 0\n",
        "\n",
        "# create A1 object\n",
        "A1 = A()\n",
        "A1.name = \"aa\"\n",
        "A1.age = 10\n",
        "\n",
        "# create another object A2\n",
        "A2 = A()\n",
        "A2.name = \"aaa\"\n",
        "A2.age = 15\n",
        "\n",
        "# access attributes\n",
        "print(f\"{A1.name} is {A1.age} years old\")\n",
        "print(f\"{A2.name} is {A2.age} years old\")"
      ],
      "metadata": {
        "colab": {
          "base_uri": "https://localhost:8080/"
        },
        "id": "1bpFvQBTdlP0",
        "outputId": "27e375e5-79ba-4e03-8105-e64a40804409"
      },
      "execution_count": null,
      "outputs": [
        {
          "output_type": "stream",
          "name": "stdout",
          "text": [
            "aa is 10 years old\n",
            "aaa is 15 years old\n"
          ]
        }
      ]
    },
    {
      "cell_type": "code",
      "source": [
        "# base class\n",
        "class Animal:\n",
        "\n",
        "    def eat(self):\n",
        "        print( \"I can eat!\")\n",
        "\n",
        "    def sleep(self):\n",
        "        print(\"I can sleep!\")\n",
        "\n",
        "# derived class\n",
        "class Dog(Animal):\n",
        "\n",
        "    def bark(self):\n",
        "        print(\"I can bark! Woof woof!!\")\n",
        "\n",
        "# Create object of the Dog class\n",
        "dog1 = Dog()\n",
        "\n",
        "# Calling members of the base class\n",
        "dog1.eat()\n",
        "dog1.sleep()\n",
        "\n",
        "# Calling member of the derived class\n",
        "dog1.bark();"
      ],
      "metadata": {
        "colab": {
          "base_uri": "https://localhost:8080/"
        },
        "id": "v7GlGkTBdnY0",
        "outputId": "75c24cbb-026d-4baf-9b27-e4f04024dbb2"
      },
      "execution_count": null,
      "outputs": [
        {
          "output_type": "stream",
          "name": "stdout",
          "text": [
            "I can eat!\n",
            "I can sleep!\n",
            "I can bark! Woof woof!!\n"
          ]
        }
      ]
    },
    {
      "cell_type": "code",
      "source": [
        "\n",
        "class Computer:\n",
        "\n",
        "    def __init__(self):\n",
        "        self.__maxprice = 900\n",
        "\n",
        "    def sell(self):\n",
        "        print(\"Selling Price: {}\".format(self.__maxprice))\n",
        "\n",
        "    def setMaxPrice(self, price):\n",
        "        self.__maxprice = price\n",
        "\n",
        "c = Computer()\n",
        "c.sell()\n",
        "\n",
        "# change the price\n",
        "c.__maxprice = 1000\n",
        "c.sell()\n",
        "\n",
        "# using setter function\n",
        "c.setMaxPrice(1000)\n",
        "c.sell()"
      ],
      "metadata": {
        "colab": {
          "base_uri": "https://localhost:8080/"
        },
        "id": "dbDdyRu8dux6",
        "outputId": "a6c41d6f-8a71-4993-8f59-dfc8b36346c7"
      },
      "execution_count": null,
      "outputs": [
        {
          "output_type": "stream",
          "name": "stdout",
          "text": [
            "Selling Price: 900\n",
            "Selling Price: 900\n",
            "Selling Price: 1000\n"
          ]
        }
      ]
    },
    {
      "cell_type": "code",
      "source": [
        "\n",
        "class Polygon:\n",
        "    # method to render a shape\n",
        "    def render(self):\n",
        "        print(\"Rendering Polygon...\")\n",
        "\n",
        "class Square(Polygon):\n",
        "    # renders Square\n",
        "    def render(self):\n",
        "        print(\"Rendering Square...\")\n",
        "\n",
        "class Circle(Polygon):\n",
        "    # renders circle\n",
        "    def render(self):\n",
        "        print(\"Rendering Circle...\")\n",
        "\n",
        "# create an object of Square\n",
        "s1 = Square()\n",
        "s1.render()\n",
        "\n",
        "# create an object of Circle\n",
        "c1 = Circle()\n",
        "c1.render()"
      ],
      "metadata": {
        "colab": {
          "base_uri": "https://localhost:8080/"
        },
        "id": "Rjrc0Cpmdyce",
        "outputId": "57016e3c-09a0-4b7b-a442-8dfbfa98a8b4"
      },
      "execution_count": null,
      "outputs": [
        {
          "output_type": "stream",
          "name": "stdout",
          "text": [
            "Rendering Square...\n",
            "Rendering Circle...\n"
          ]
        }
      ]
    }
  ],
  "metadata": {
    "colab": {
      "provenance": []
    },
    "kernelspec": {
      "display_name": "Python 3",
      "name": "python3"
    },
    "language_info": {
      "name": "python"
    }
  },
  "nbformat": 4,
  "nbformat_minor": 0
}